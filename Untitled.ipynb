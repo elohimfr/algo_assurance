{
 "cells": [
  {
   "cell_type": "markdown",
   "id": "138144d5-8bc5-4ec1-8a83-60b7c764d47e",
   "metadata": {},
   "source": [
    "# PyTorch - MLP"
   ]
  },
  {
   "cell_type": "markdown",
   "id": "fb07ea94-8d1c-46a1-bd67-107354c5ea8d",
   "metadata": {},
   "source": [
    "## Christian Versloot (CIFAR10)\n",
    "\n",
    "https://github.com/christianversloot/machine-learning-articles/blob/main/creating-a-multilayer-perceptron-with-pytorch-and-lightning.md#preparing-the-cifar-10-dataset-and-initializing-dependencies"
   ]
  },
  {
   "cell_type": "code",
   "execution_count": 1,
   "id": "12abed30-1b86-43db-87e3-9d612d8b3ea6",
   "metadata": {},
   "outputs": [],
   "source": [
    "import os\n",
    "import torch\n",
    "from torch import nn\n",
    "from torchvision.datasets import CIFAR10\n",
    "from torch.utils.data import DataLoader\n",
    "from torchvision import transforms"
   ]
  },
  {
   "cell_type": "markdown",
   "id": "7289605f-0b2f-436a-9145-db0669d77e7d",
   "metadata": {},
   "source": [
    "### Defining the MLP neural network class"
   ]
  },
  {
   "cell_type": "code",
   "execution_count": 2,
   "id": "fbc6db28-a390-4071-abb7-24698540354e",
   "metadata": {},
   "outputs": [],
   "source": [
    "class MLP(nn.Module):\n",
    "  '''\n",
    "    Multilayer Perceptron.\n",
    "  '''\n",
    "  def __init__(self):\n",
    "    super().__init__()\n",
    "    self.layers = nn.Sequential(\n",
    "      nn.Flatten(),\n",
    "      nn.Linear(32 * 32 * 3, 64),\n",
    "      nn.ReLU(),\n",
    "      nn.Linear(64, 32),\n",
    "      nn.ReLU(),\n",
    "      nn.Linear(32, 10)\n",
    "    )\n",
    "\n",
    "\n",
    "  def forward(self, x):\n",
    "    '''Forward pass'''\n",
    "    return self.layers(x)"
   ]
  },
  {
   "cell_type": "markdown",
   "id": "f57dca91-1177-4d73-a57c-172e4d942955",
   "metadata": {},
   "source": [
    "### Runtime code"
   ]
  },
  {
   "cell_type": "code",
   "execution_count": 4,
   "id": "a7e285f1-8e89-4f95-b1b6-3b38572858b9",
   "metadata": {},
   "outputs": [
    {
     "name": "stdout",
     "output_type": "stream",
     "text": [
      "Downloading https://www.cs.toronto.edu/~kriz/cifar-10-python.tar.gz to /Users/efonesca.dos.reis/mrm_fraud/algo_assurance/code/cifar-10-python.tar.gz\n"
     ]
    },
    {
     "name": "stderr",
     "output_type": "stream",
     "text": [
      "100%|█████████████████████████████████████████████████████████████████████████████████████████████████████████████████████████████████████████████████████████████████████████| 170M/170M [00:24<00:00, 6.96MB/s]\n"
     ]
    },
    {
     "name": "stdout",
     "output_type": "stream",
     "text": [
      "Extracting /Users/efonesca.dos.reis/mrm_fraud/algo_assurance/code/cifar-10-python.tar.gz to /Users/efonesca.dos.reis/mrm_fraud/algo_assurance/code\n",
      "CPU times: user 2.43 s, sys: 1.03 s, total: 3.45 s\n",
      "Wall time: 27.1 s\n"
     ]
    }
   ],
   "source": [
    "%%time\n",
    "if __name__ == '__main__':\n",
    "  \n",
    "  # Set fixed random number seed\n",
    "  torch.manual_seed(42)\n",
    "\n",
    "  # Prepare CIFAR-10 dataset\n",
    "  dataset = CIFAR10(os.getcwd(), download=True, transform=transforms.ToTensor())\n",
    "  trainloader = torch.utils.data.DataLoader(dataset, batch_size=10, shuffle=True, num_workers=1)"
   ]
  },
  {
   "cell_type": "code",
   "execution_count": 5,
   "id": "3ce854f6-180e-4828-bebc-6c844a2fa644",
   "metadata": {},
   "outputs": [],
   "source": [
    "  # Initialize the MLP\n",
    "  mlp = MLP()\n",
    "  \n",
    "  # Define the loss function and optimizer\n",
    "  loss_function = nn.CrossEntropyLoss()\n",
    "  optimizer = torch.optim.Adam(mlp.parameters(), lr=1e-4)"
   ]
  },
  {
   "cell_type": "markdown",
   "id": "dd8a153e-c748-467c-ae83-f081b0b6e261",
   "metadata": {},
   "source": [
    "### Defining the training loop"
   ]
  },
  {
   "cell_type": "code",
   "execution_count": 6,
   "id": "c1a9a403-acb4-44a0-bd56-ff844d777d01",
   "metadata": {},
   "outputs": [
    {
     "name": "stdout",
     "output_type": "stream",
     "text": [
      "Starting epoch 1\n",
      "Loss after mini-batch   500: 2.237\n",
      "Loss after mini-batch  1000: 2.099\n",
      "Loss after mini-batch  1500: 2.031\n",
      "Loss after mini-batch  2000: 2.000\n",
      "Loss after mini-batch  2500: 1.938\n",
      "Loss after mini-batch  3000: 1.945\n",
      "Loss after mini-batch  3500: 1.916\n",
      "Loss after mini-batch  4000: 1.903\n",
      "Loss after mini-batch  4500: 1.870\n",
      "Loss after mini-batch  5000: 1.856\n",
      "Starting epoch 2\n",
      "Loss after mini-batch   500: 1.831\n",
      "Loss after mini-batch  1000: 1.832\n",
      "Loss after mini-batch  1500: 1.825\n",
      "Loss after mini-batch  2000: 1.822\n",
      "Loss after mini-batch  2500: 1.816\n",
      "Loss after mini-batch  3000: 1.810\n",
      "Loss after mini-batch  3500: 1.801\n",
      "Loss after mini-batch  4000: 1.771\n",
      "Loss after mini-batch  4500: 1.774\n",
      "Loss after mini-batch  5000: 1.762\n",
      "Starting epoch 3\n",
      "Loss after mini-batch   500: 1.753\n",
      "Loss after mini-batch  1000: 1.764\n",
      "Loss after mini-batch  1500: 1.746\n",
      "Loss after mini-batch  2000: 1.753\n",
      "Loss after mini-batch  2500: 1.725\n",
      "Loss after mini-batch  3000: 1.725\n",
      "Loss after mini-batch  3500: 1.731\n",
      "Loss after mini-batch  4000: 1.710\n",
      "Loss after mini-batch  4500: 1.714\n",
      "Loss after mini-batch  5000: 1.686\n",
      "Starting epoch 4\n",
      "Loss after mini-batch   500: 1.716\n",
      "Loss after mini-batch  1000: 1.692\n",
      "Loss after mini-batch  1500: 1.694\n",
      "Loss after mini-batch  2000: 1.687\n",
      "Loss after mini-batch  2500: 1.679\n",
      "Loss after mini-batch  3000: 1.677\n",
      "Loss after mini-batch  3500: 1.683\n",
      "Loss after mini-batch  4000: 1.672\n",
      "Loss after mini-batch  4500: 1.664\n",
      "Loss after mini-batch  5000: 1.676\n",
      "Starting epoch 5\n",
      "Loss after mini-batch   500: 1.671\n",
      "Loss after mini-batch  1000: 1.655\n",
      "Loss after mini-batch  1500: 1.652\n",
      "Loss after mini-batch  2000: 1.633\n",
      "Loss after mini-batch  2500: 1.644\n",
      "Loss after mini-batch  3000: 1.663\n",
      "Loss after mini-batch  3500: 1.646\n",
      "Loss after mini-batch  4000: 1.622\n",
      "Loss after mini-batch  4500: 1.645\n",
      "Loss after mini-batch  5000: 1.644\n",
      "Training process has finished.\n"
     ]
    }
   ],
   "source": [
    "  # Run the training loop\n",
    "  for epoch in range(0, 5): # 5 epochs at maximum\n",
    "    \n",
    "    # Print epoch\n",
    "    print(f'Starting epoch {epoch+1}')\n",
    "    \n",
    "    # Set current loss value\n",
    "    current_loss = 0.0\n",
    "    \n",
    "    # Iterate over the DataLoader for training data\n",
    "    for i, data in enumerate(trainloader, 0):\n",
    "      \n",
    "      # Get inputs\n",
    "      inputs, targets = data\n",
    "      \n",
    "      # Zero the gradients\n",
    "      optimizer.zero_grad()\n",
    "      \n",
    "      # Perform forward pass\n",
    "      outputs = mlp(inputs)\n",
    "      \n",
    "      # Compute loss\n",
    "      loss = loss_function(outputs, targets)\n",
    "      \n",
    "      # Perform backward pass\n",
    "      loss.backward()\n",
    "      \n",
    "      # Perform optimization\n",
    "      optimizer.step()\n",
    "      \n",
    "      # Print statistics\n",
    "      current_loss += loss.item()\n",
    "      if i % 500 == 499:\n",
    "          print('Loss after mini-batch %5d: %.3f' %\n",
    "                (i + 1, current_loss / 500))\n",
    "          current_loss = 0.0\n",
    "\n",
    "  # Process is complete.\n",
    "  print('Training process has finished.')"
   ]
  }
 ],
 "metadata": {
  "kernelspec": {
   "display_name": "Python 3 (ipykernel)",
   "language": "python",
   "name": "python3"
  },
  "language_info": {
   "codemirror_mode": {
    "name": "ipython",
    "version": 3
   },
   "file_extension": ".py",
   "mimetype": "text/x-python",
   "name": "python",
   "nbconvert_exporter": "python",
   "pygments_lexer": "ipython3",
   "version": "3.12.7"
  }
 },
 "nbformat": 4,
 "nbformat_minor": 5
}
