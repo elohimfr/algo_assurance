{
 "cells": [
  {
   "cell_type": "markdown",
   "id": "138144d5-8bc5-4ec1-8a83-60b7c764d47e",
   "metadata": {},
   "source": [
    "# PyTorch - MLP"
   ]
  },
  {
   "cell_type": "code",
   "execution_count": 1,
   "id": "f79ff1f8-6f6d-4807-b6f3-974f303ce6cd",
   "metadata": {},
   "outputs": [],
   "source": [
    "PATH = '~/mrm_fraud/datasets/mlpfiles/'"
   ]
  },
  {
   "cell_type": "markdown",
   "id": "fb07ea94-8d1c-46a1-bd67-107354c5ea8d",
   "metadata": {},
   "source": [
    "## Christian Versloot (CIFAR10)\n",
    "\n",
    "https://github.com/christianversloot/machine-learning-articles/blob/main/creating-a-multilayer-perceptron-with-pytorch-and-lightning.md#preparing-the-cifar-10-dataset-and-initializing-dependencies"
   ]
  },
  {
   "cell_type": "code",
   "execution_count": 1,
   "id": "12abed30-1b86-43db-87e3-9d612d8b3ea6",
   "metadata": {},
   "outputs": [],
   "source": [
    "import os\n",
    "import torch\n",
    "from torch import nn\n",
    "from torchvision.datasets import CIFAR10\n",
    "from torch.utils.data import DataLoader\n",
    "from torchvision import transforms"
   ]
  },
  {
   "cell_type": "markdown",
   "id": "7289605f-0b2f-436a-9145-db0669d77e7d",
   "metadata": {},
   "source": [
    "### Defining the MLP neural network class"
   ]
  },
  {
   "cell_type": "code",
   "execution_count": 2,
   "id": "fbc6db28-a390-4071-abb7-24698540354e",
   "metadata": {},
   "outputs": [],
   "source": [
    "class MLP(nn.Module):\n",
    "  '''\n",
    "    Multilayer Perceptron.\n",
    "  '''\n",
    "  def __init__(self):\n",
    "    super().__init__()\n",
    "    self.layers = nn.Sequential(\n",
    "      nn.Flatten(),\n",
    "      nn.Linear(32 * 32 * 3, 64),\n",
    "      nn.ReLU(),\n",
    "      nn.Linear(64, 32),\n",
    "      nn.ReLU(),\n",
    "      nn.Linear(32, 10)\n",
    "    )\n",
    "\n",
    "  def forward(self, x):\n",
    "    '''Forward pass'''\n",
    "    return self.layers(x)"
   ]
  },
  {
   "cell_type": "markdown",
   "id": "f57dca91-1177-4d73-a57c-172e4d942955",
   "metadata": {},
   "source": [
    "### Runtime code"
   ]
  },
  {
   "cell_type": "code",
   "execution_count": 3,
   "id": "a7e285f1-8e89-4f95-b1b6-3b38572858b9",
   "metadata": {},
   "outputs": [
    {
     "name": "stdout",
     "output_type": "stream",
     "text": [
      "Downloading https://www.cs.toronto.edu/~kriz/cifar-10-python.tar.gz to /Users/efonesca.dos.reis/mrm_fraud/algo_assurance/code/cifar-10-python.tar.gz\n"
     ]
    },
    {
     "name": "stderr",
     "output_type": "stream",
     "text": [
      "100%|██████████████████████████████████████████████████████████████████████████████████████████████████████████████████████████████████████████████████████████████████████████████| 170M/170M [01:47<00:00, 1.58MB/s]\n"
     ]
    },
    {
     "name": "stdout",
     "output_type": "stream",
     "text": [
      "Extracting /Users/efonesca.dos.reis/mrm_fraud/algo_assurance/code/cifar-10-python.tar.gz to /Users/efonesca.dos.reis/mrm_fraud/algo_assurance/code\n",
      "CPU times: user 5.01 s, sys: 3.26 s, total: 8.27 s\n",
      "Wall time: 1min 50s\n"
     ]
    }
   ],
   "source": [
    "%%time\n",
    "if __name__ == '__main__':\n",
    "  \n",
    "  # Set fixed random number seed\n",
    "  torch.manual_seed(42)\n",
    "\n",
    "  # Prepare CIFAR-10 dataset\n",
    "  dataset = CIFAR10(os.getcwd(), download=True, transform=transforms.ToTensor())\n",
    "  trainloader = torch.utils.data.DataLoader(dataset, batch_size=10, shuffle=True, num_workers=1)"
   ]
  },
  {
   "cell_type": "code",
   "execution_count": 4,
   "id": "3ce854f6-180e-4828-bebc-6c844a2fa644",
   "metadata": {},
   "outputs": [],
   "source": [
    "  # Initialize the MLP\n",
    "  mlp = MLP()\n",
    "  \n",
    "  # Define the loss function and optimizer\n",
    "  loss_function = nn.CrossEntropyLoss()\n",
    "  optimizer = torch.optim.Adam(mlp.parameters(), lr=1e-4)"
   ]
  },
  {
   "cell_type": "markdown",
   "id": "dd8a153e-c748-467c-ae83-f081b0b6e261",
   "metadata": {},
   "source": [
    "### Defining the training loop"
   ]
  },
  {
   "cell_type": "code",
   "execution_count": 5,
   "id": "c1a9a403-acb4-44a0-bd56-ff844d777d01",
   "metadata": {},
   "outputs": [
    {
     "name": "stdout",
     "output_type": "stream",
     "text": [
      "Starting epoch 1\n",
      "Loss after mini-batch   500: 2.237\n",
      "Loss after mini-batch  1000: 2.099\n",
      "Loss after mini-batch  1500: 2.031\n",
      "Loss after mini-batch  2000: 2.000\n",
      "Loss after mini-batch  2500: 1.938\n",
      "Loss after mini-batch  3000: 1.945\n",
      "Loss after mini-batch  3500: 1.916\n",
      "Loss after mini-batch  4000: 1.903\n",
      "Loss after mini-batch  4500: 1.870\n",
      "Loss after mini-batch  5000: 1.856\n",
      "Starting epoch 2\n",
      "Loss after mini-batch   500: 1.831\n",
      "Loss after mini-batch  1000: 1.832\n",
      "Loss after mini-batch  1500: 1.825\n",
      "Loss after mini-batch  2000: 1.822\n",
      "Loss after mini-batch  2500: 1.816\n",
      "Loss after mini-batch  3000: 1.810\n",
      "Loss after mini-batch  3500: 1.801\n",
      "Loss after mini-batch  4000: 1.771\n",
      "Loss after mini-batch  4500: 1.774\n",
      "Loss after mini-batch  5000: 1.762\n",
      "Starting epoch 3\n",
      "Loss after mini-batch   500: 1.753\n",
      "Loss after mini-batch  1000: 1.764\n",
      "Loss after mini-batch  1500: 1.746\n",
      "Loss after mini-batch  2000: 1.753\n",
      "Loss after mini-batch  2500: 1.725\n",
      "Loss after mini-batch  3000: 1.725\n",
      "Loss after mini-batch  3500: 1.731\n",
      "Loss after mini-batch  4000: 1.710\n",
      "Loss after mini-batch  4500: 1.714\n",
      "Loss after mini-batch  5000: 1.686\n",
      "Starting epoch 4\n",
      "Loss after mini-batch   500: 1.716\n",
      "Loss after mini-batch  1000: 1.692\n",
      "Loss after mini-batch  1500: 1.694\n",
      "Loss after mini-batch  2000: 1.687\n",
      "Loss after mini-batch  2500: 1.679\n",
      "Loss after mini-batch  3000: 1.677\n",
      "Loss after mini-batch  3500: 1.683\n",
      "Loss after mini-batch  4000: 1.672\n",
      "Loss after mini-batch  4500: 1.664\n",
      "Loss after mini-batch  5000: 1.676\n",
      "Starting epoch 5\n",
      "Loss after mini-batch   500: 1.671\n",
      "Loss after mini-batch  1000: 1.655\n",
      "Loss after mini-batch  1500: 1.652\n",
      "Loss after mini-batch  2000: 1.633\n",
      "Loss after mini-batch  2500: 1.644\n",
      "Loss after mini-batch  3000: 1.663\n",
      "Loss after mini-batch  3500: 1.646\n",
      "Loss after mini-batch  4000: 1.622\n",
      "Loss after mini-batch  4500: 1.645\n",
      "Loss after mini-batch  5000: 1.644\n",
      "Training process has finished.\n"
     ]
    }
   ],
   "source": [
    "  # Run the training loop\n",
    "  for epoch in range(0, 5): # 5 epochs at maximum\n",
    "    \n",
    "    # Print epoch\n",
    "    print(f'Starting epoch {epoch+1}')\n",
    "    \n",
    "    # Set current loss value\n",
    "    current_loss = 0.0\n",
    "    \n",
    "    # Iterate over the DataLoader for training data\n",
    "    for i, data in enumerate(trainloader, 0):\n",
    "      \n",
    "      # Get inputs\n",
    "      inputs, targets = data\n",
    "      \n",
    "      # Zero the gradients\n",
    "      optimizer.zero_grad()\n",
    "      \n",
    "      # Perform forward pass\n",
    "      outputs = mlp(inputs)\n",
    "      \n",
    "      # Compute loss\n",
    "      loss = loss_function(outputs, targets)\n",
    "      \n",
    "      # Perform backward pass\n",
    "      loss.backward()\n",
    "      \n",
    "      # Perform optimization\n",
    "      optimizer.step()\n",
    "      \n",
    "      # Print statistics\n",
    "      current_loss += loss.item()\n",
    "      if i % 500 == 499:\n",
    "          print('Loss after mini-batch %5d: %.3f' %\n",
    "                (i + 1, current_loss / 500))\n",
    "          current_loss = 0.0\n",
    "\n",
    "  # Process is complete.\n",
    "  print('Training process has finished.')"
   ]
  },
  {
   "cell_type": "code",
   "execution_count": null,
   "id": "2f71a419-664f-4504-9582-085899612604",
   "metadata": {},
   "outputs": [],
   "source": []
  },
  {
   "cell_type": "code",
   "execution_count": null,
   "id": "e46b38da-3103-4618-aa8d-bb861a682a9a",
   "metadata": {},
   "outputs": [],
   "source": []
  },
  {
   "cell_type": "markdown",
   "id": "4fb08d86-64fc-4043-a55c-fd79c0631139",
   "metadata": {},
   "source": [
    "## Julia Nickerson (Titanic)\n",
    "https://www.nickersonj.com/posts/pytorch-tabular/#model-training"
   ]
  },
  {
   "cell_type": "code",
   "execution_count": 1,
   "id": "1bdc7b57-e9ce-4220-9857-f297c9527e07",
   "metadata": {},
   "outputs": [],
   "source": [
    "import torch\n",
    "from torch import nn\n",
    "\n",
    "from sklearn.model_selection import train_test_split\n",
    "\n",
    "import numpy as np\n",
    "import pandas as pd\n",
    "\n",
    "import matplotlib as mpl\n",
    "import matplotlib.pyplot as plt\n",
    "\n",
    "from kaggle import api\n",
    "\n",
    "from pathlib import Path\n",
    "\n",
    "# Settings for matplotlib\n",
    "%matplotlib inline\n",
    "mpl.rc('axes', labelsize=14)\n",
    "mpl.rc('xtick', labelsize=12)\n",
    "mpl.rc('ytick', labelsize=12)\n",
    "\n",
    "# Specify float format for pandas tables\n",
    "pd.options.display.float_format = '{:.3f}'.format\n"
   ]
  },
  {
   "cell_type": "code",
   "execution_count": 30,
   "id": "4e41953e-bbbd-410a-96d1-7ae702797850",
   "metadata": {},
   "outputs": [
    {
     "name": "stdout",
     "output_type": "stream",
     "text": [
      "<class 'pandas.core.frame.DataFrame'>\n",
      "RangeIndex: 891 entries, 0 to 890\n",
      "Data columns (total 12 columns):\n",
      " #   Column       Non-Null Count  Dtype  \n",
      "---  ------       --------------  -----  \n",
      " 0   PassengerId  891 non-null    int64  \n",
      " 1   Survived     891 non-null    int64  \n",
      " 2   Pclass       891 non-null    int64  \n",
      " 3   Name         891 non-null    object \n",
      " 4   Sex          891 non-null    object \n",
      " 5   Age          714 non-null    float64\n",
      " 6   SibSp        891 non-null    int64  \n",
      " 7   Parch        891 non-null    int64  \n",
      " 8   Ticket       891 non-null    object \n",
      " 9   Fare         891 non-null    float64\n",
      " 10  Cabin        204 non-null    object \n",
      " 11  Embarked     889 non-null    object \n",
      "dtypes: float64(2), int64(5), object(5)\n",
      "memory usage: 83.7+ KB\n"
     ]
    }
   ],
   "source": [
    "# Read in the training and test sets from CSV files\n",
    "\n",
    "df = pd.read_csv(PATH+'/titanic/train.csv')\n",
    "test_df = pd.read_csv(PATH+'/titanic/test.csv')\n",
    "\n",
    "df.info()"
   ]
  },
  {
   "cell_type": "code",
   "execution_count": 3,
   "id": "c606891e-541d-4f75-8bdd-604ce77b0cc6",
   "metadata": {},
   "outputs": [
    {
     "data": {
      "text/html": [
       "<div>\n",
       "<style scoped>\n",
       "    .dataframe tbody tr th:only-of-type {\n",
       "        vertical-align: middle;\n",
       "    }\n",
       "\n",
       "    .dataframe tbody tr th {\n",
       "        vertical-align: top;\n",
       "    }\n",
       "\n",
       "    .dataframe thead th {\n",
       "        text-align: right;\n",
       "    }\n",
       "</style>\n",
       "<table border=\"1\" class=\"dataframe\">\n",
       "  <thead>\n",
       "    <tr style=\"text-align: right;\">\n",
       "      <th></th>\n",
       "      <th>PassengerId</th>\n",
       "      <th>Survived</th>\n",
       "      <th>Pclass</th>\n",
       "      <th>Name</th>\n",
       "      <th>Sex</th>\n",
       "      <th>Age</th>\n",
       "      <th>SibSp</th>\n",
       "      <th>Parch</th>\n",
       "      <th>Ticket</th>\n",
       "      <th>Fare</th>\n",
       "      <th>Cabin</th>\n",
       "      <th>Embarked</th>\n",
       "    </tr>\n",
       "  </thead>\n",
       "  <tbody>\n",
       "    <tr>\n",
       "      <th>301</th>\n",
       "      <td>302</td>\n",
       "      <td>1</td>\n",
       "      <td>3</td>\n",
       "      <td>McCoy, Mr. Bernard</td>\n",
       "      <td>male</td>\n",
       "      <td>NaN</td>\n",
       "      <td>2</td>\n",
       "      <td>0</td>\n",
       "      <td>367226</td>\n",
       "      <td>23.250</td>\n",
       "      <td>NaN</td>\n",
       "      <td>Q</td>\n",
       "    </tr>\n",
       "    <tr>\n",
       "      <th>430</th>\n",
       "      <td>431</td>\n",
       "      <td>1</td>\n",
       "      <td>1</td>\n",
       "      <td>Bjornstrom-Steffansson, Mr. Mauritz Hakan</td>\n",
       "      <td>male</td>\n",
       "      <td>28.000</td>\n",
       "      <td>0</td>\n",
       "      <td>0</td>\n",
       "      <td>110564</td>\n",
       "      <td>26.550</td>\n",
       "      <td>C52</td>\n",
       "      <td>S</td>\n",
       "    </tr>\n",
       "    <tr>\n",
       "      <th>879</th>\n",
       "      <td>880</td>\n",
       "      <td>1</td>\n",
       "      <td>1</td>\n",
       "      <td>Potter, Mrs. Thomas Jr (Lily Alexenia Wilson)</td>\n",
       "      <td>female</td>\n",
       "      <td>56.000</td>\n",
       "      <td>0</td>\n",
       "      <td>1</td>\n",
       "      <td>11767</td>\n",
       "      <td>83.158</td>\n",
       "      <td>C50</td>\n",
       "      <td>C</td>\n",
       "    </tr>\n",
       "  </tbody>\n",
       "</table>\n",
       "</div>"
      ],
      "text/plain": [
       "     PassengerId  Survived  Pclass  \\\n",
       "301          302         1       3   \n",
       "430          431         1       1   \n",
       "879          880         1       1   \n",
       "\n",
       "                                              Name     Sex    Age  SibSp  \\\n",
       "301                             McCoy, Mr. Bernard    male    NaN      2   \n",
       "430      Bjornstrom-Steffansson, Mr. Mauritz Hakan    male 28.000      0   \n",
       "879  Potter, Mrs. Thomas Jr (Lily Alexenia Wilson)  female 56.000      0   \n",
       "\n",
       "     Parch  Ticket   Fare Cabin Embarked  \n",
       "301      0  367226 23.250   NaN        Q  \n",
       "430      0  110564 26.550   C52        S  \n",
       "879      1   11767 83.158   C50        C  "
      ]
     },
     "execution_count": 3,
     "metadata": {},
     "output_type": "execute_result"
    }
   ],
   "source": [
    "df.sample(3)"
   ]
  },
  {
   "cell_type": "code",
   "execution_count": 31,
   "id": "bf69c965-74e5-4c42-8d61-4eb818b12f5c",
   "metadata": {},
   "outputs": [],
   "source": [
    "# Separate the training set’s features from the label column Survived:\n",
    "train_labels = df['Survived'].copy()\n",
    "df = df.drop('Survived', axis=1)"
   ]
  },
  {
   "cell_type": "markdown",
   "id": "aecb3be3-c16f-4e44-896d-86a91e6de78b",
   "metadata": {},
   "source": [
    "### Feature Engineering"
   ]
  },
  {
   "cell_type": "code",
   "execution_count": 5,
   "id": "060b9964-4fa7-4db0-8f9d-1fb74e3c1ca5",
   "metadata": {},
   "outputs": [
    {
     "data": {
      "text/html": [
       "<div>\n",
       "<style scoped>\n",
       "    .dataframe tbody tr th:only-of-type {\n",
       "        vertical-align: middle;\n",
       "    }\n",
       "\n",
       "    .dataframe tbody tr th {\n",
       "        vertical-align: top;\n",
       "    }\n",
       "\n",
       "    .dataframe thead th {\n",
       "        text-align: right;\n",
       "    }\n",
       "</style>\n",
       "<table border=\"1\" class=\"dataframe\">\n",
       "  <thead>\n",
       "    <tr style=\"text-align: right;\">\n",
       "      <th></th>\n",
       "      <th>Name</th>\n",
       "      <th>Sex</th>\n",
       "      <th>Ticket</th>\n",
       "      <th>Cabin</th>\n",
       "      <th>Embarked</th>\n",
       "    </tr>\n",
       "  </thead>\n",
       "  <tbody>\n",
       "    <tr>\n",
       "      <th>count</th>\n",
       "      <td>891</td>\n",
       "      <td>891</td>\n",
       "      <td>891</td>\n",
       "      <td>204</td>\n",
       "      <td>889</td>\n",
       "    </tr>\n",
       "    <tr>\n",
       "      <th>unique</th>\n",
       "      <td>891</td>\n",
       "      <td>2</td>\n",
       "      <td>681</td>\n",
       "      <td>147</td>\n",
       "      <td>3</td>\n",
       "    </tr>\n",
       "    <tr>\n",
       "      <th>top</th>\n",
       "      <td>Braund, Mr. Owen Harris</td>\n",
       "      <td>male</td>\n",
       "      <td>347082</td>\n",
       "      <td>B96 B98</td>\n",
       "      <td>S</td>\n",
       "    </tr>\n",
       "    <tr>\n",
       "      <th>freq</th>\n",
       "      <td>1</td>\n",
       "      <td>577</td>\n",
       "      <td>7</td>\n",
       "      <td>4</td>\n",
       "      <td>644</td>\n",
       "    </tr>\n",
       "  </tbody>\n",
       "</table>\n",
       "</div>"
      ],
      "text/plain": [
       "                           Name   Sex  Ticket    Cabin Embarked\n",
       "count                       891   891     891      204      889\n",
       "unique                      891     2     681      147        3\n",
       "top     Braund, Mr. Owen Harris  male  347082  B96 B98        S\n",
       "freq                          1   577       7        4      644"
      ]
     },
     "execution_count": 5,
     "metadata": {},
     "output_type": "execute_result"
    }
   ],
   "source": [
    "# View object-type columns:\n",
    "df.describe(include=object)"
   ]
  },
  {
   "cell_type": "code",
   "execution_count": 6,
   "id": "55db477b-4aaa-4fa2-8730-d1d2cc1e0b38",
   "metadata": {},
   "outputs": [
    {
     "data": {
      "text/html": [
       "<div>\n",
       "<style scoped>\n",
       "    .dataframe tbody tr th:only-of-type {\n",
       "        vertical-align: middle;\n",
       "    }\n",
       "\n",
       "    .dataframe tbody tr th {\n",
       "        vertical-align: top;\n",
       "    }\n",
       "\n",
       "    .dataframe thead th {\n",
       "        text-align: right;\n",
       "    }\n",
       "</style>\n",
       "<table border=\"1\" class=\"dataframe\">\n",
       "  <thead>\n",
       "    <tr style=\"text-align: right;\">\n",
       "      <th></th>\n",
       "      <th>PassengerId</th>\n",
       "      <th>Pclass</th>\n",
       "      <th>Age</th>\n",
       "      <th>SibSp</th>\n",
       "      <th>Parch</th>\n",
       "      <th>Fare</th>\n",
       "    </tr>\n",
       "  </thead>\n",
       "  <tbody>\n",
       "    <tr>\n",
       "      <th>count</th>\n",
       "      <td>891.000</td>\n",
       "      <td>891.000</td>\n",
       "      <td>714.000</td>\n",
       "      <td>891.000</td>\n",
       "      <td>891.000</td>\n",
       "      <td>891.000</td>\n",
       "    </tr>\n",
       "    <tr>\n",
       "      <th>mean</th>\n",
       "      <td>446.000</td>\n",
       "      <td>2.309</td>\n",
       "      <td>29.699</td>\n",
       "      <td>0.523</td>\n",
       "      <td>0.382</td>\n",
       "      <td>32.204</td>\n",
       "    </tr>\n",
       "    <tr>\n",
       "      <th>std</th>\n",
       "      <td>257.354</td>\n",
       "      <td>0.836</td>\n",
       "      <td>14.526</td>\n",
       "      <td>1.103</td>\n",
       "      <td>0.806</td>\n",
       "      <td>49.693</td>\n",
       "    </tr>\n",
       "    <tr>\n",
       "      <th>min</th>\n",
       "      <td>1.000</td>\n",
       "      <td>1.000</td>\n",
       "      <td>0.420</td>\n",
       "      <td>0.000</td>\n",
       "      <td>0.000</td>\n",
       "      <td>0.000</td>\n",
       "    </tr>\n",
       "    <tr>\n",
       "      <th>25%</th>\n",
       "      <td>223.500</td>\n",
       "      <td>2.000</td>\n",
       "      <td>20.125</td>\n",
       "      <td>0.000</td>\n",
       "      <td>0.000</td>\n",
       "      <td>7.910</td>\n",
       "    </tr>\n",
       "    <tr>\n",
       "      <th>50%</th>\n",
       "      <td>446.000</td>\n",
       "      <td>3.000</td>\n",
       "      <td>28.000</td>\n",
       "      <td>0.000</td>\n",
       "      <td>0.000</td>\n",
       "      <td>14.454</td>\n",
       "    </tr>\n",
       "    <tr>\n",
       "      <th>75%</th>\n",
       "      <td>668.500</td>\n",
       "      <td>3.000</td>\n",
       "      <td>38.000</td>\n",
       "      <td>1.000</td>\n",
       "      <td>0.000</td>\n",
       "      <td>31.000</td>\n",
       "    </tr>\n",
       "    <tr>\n",
       "      <th>max</th>\n",
       "      <td>891.000</td>\n",
       "      <td>3.000</td>\n",
       "      <td>80.000</td>\n",
       "      <td>8.000</td>\n",
       "      <td>6.000</td>\n",
       "      <td>512.329</td>\n",
       "    </tr>\n",
       "  </tbody>\n",
       "</table>\n",
       "</div>"
      ],
      "text/plain": [
       "       PassengerId  Pclass     Age   SibSp   Parch    Fare\n",
       "count      891.000 891.000 714.000 891.000 891.000 891.000\n",
       "mean       446.000   2.309  29.699   0.523   0.382  32.204\n",
       "std        257.354   0.836  14.526   1.103   0.806  49.693\n",
       "min          1.000   1.000   0.420   0.000   0.000   0.000\n",
       "25%        223.500   2.000  20.125   0.000   0.000   7.910\n",
       "50%        446.000   3.000  28.000   0.000   0.000  14.454\n",
       "75%        668.500   3.000  38.000   1.000   0.000  31.000\n",
       "max        891.000   3.000  80.000   8.000   6.000 512.329"
      ]
     },
     "execution_count": 6,
     "metadata": {},
     "output_type": "execute_result"
    }
   ],
   "source": [
    "# View number-type columns:\n",
    "df.describe(include=np.number)"
   ]
  },
  {
   "cell_type": "code",
   "execution_count": 7,
   "id": "d6bf7948-3b93-4ea1-a7e9-5a9e5bdf0482",
   "metadata": {},
   "outputs": [],
   "source": [
    "def feature_engineering(df):\n",
    "    \n",
    "    # The Fare column is skewed, so taking the natural log will make it more even\n",
    "    df['LogFare'] = np.log1p(df['Fare'])\n",
    "    \n",
    "    # Taking the first character of the Cabin column gives the deck, and mapping single characters to groups of decks; other decks will be NaN\n",
    "    df['DeckGroup'] = df['Cabin'].str[0].map({'A': 'ABC', 'B': 'ABC', 'C':'ABC', 'D':'DE', 'E': 'DE', 'F': 'FG', 'G': 'FG'})\n",
    "\n",
    "    # Add up all family members\n",
    "    df['Family'] = df['SibSp'] + df['Parch']\n",
    "    \n",
    "    # If the person traveled alone (=1) or has any family members (=0)\n",
    "    df['Alone'] = (df['Family'] == 0).map({True: 1, False: 0})\n",
    "    \n",
    "    # Specify the ticket frequency (how common someone's ticket is)\n",
    "    df['TicketFreq'] = df.groupby('Ticket')['Ticket'].transform('count')\n",
    "    \n",
    "    # Extract someone's title (e.g., Mr, Mrs, Miss, Rev)\n",
    "    df['Title'] = df['Name'].str.split(', ', expand=True).iloc[:, 1].str.split('.', expand=True).iloc[:, 0]\n",
    "    \n",
    "    # Limit titles to those in the dictionary below; other titles will be NaN\n",
    "    df['Title'] = df['Title'].map({'Mr': 'Mr', 'Miss': 'Miss', 'Mrs': 'Mrs', 'Master': 'Master'})\n",
    "    \n",
    "    # Change sex to numbers (male=1, female=0)\n",
    "    df['Sex'] = df['Sex'].map({'male': 1, 'female': 0})\n",
    "    \n",
    "    return df\n"
   ]
  },
  {
   "cell_type": "code",
   "execution_count": 32,
   "id": "85aa813d-fafd-46a7-95e7-42fc317026da",
   "metadata": {},
   "outputs": [],
   "source": [
    "# Apply feature engineering:\n",
    "df = feature_engineering(df)"
   ]
  },
  {
   "cell_type": "code",
   "execution_count": 33,
   "id": "23df9a93-15be-44df-aff0-a9bbd845c258",
   "metadata": {},
   "outputs": [],
   "source": [
    "# Remove columns I no longer need:\n",
    "df = df.drop(['Name', 'Ticket', 'Cabin', 'PassengerId', 'Fare', 'SibSp', 'Parch'], axis=1)"
   ]
  },
  {
   "cell_type": "code",
   "execution_count": 10,
   "id": "9791387f-dae5-44c9-84d9-5e964c6118ea",
   "metadata": {},
   "outputs": [
    {
     "data": {
      "text/html": [
       "<div>\n",
       "<style scoped>\n",
       "    .dataframe tbody tr th:only-of-type {\n",
       "        vertical-align: middle;\n",
       "    }\n",
       "\n",
       "    .dataframe tbody tr th {\n",
       "        vertical-align: top;\n",
       "    }\n",
       "\n",
       "    .dataframe thead th {\n",
       "        text-align: right;\n",
       "    }\n",
       "</style>\n",
       "<table border=\"1\" class=\"dataframe\">\n",
       "  <thead>\n",
       "    <tr style=\"text-align: right;\">\n",
       "      <th></th>\n",
       "      <th>Pclass</th>\n",
       "      <th>Sex</th>\n",
       "      <th>Age</th>\n",
       "      <th>Embarked</th>\n",
       "      <th>LogFare</th>\n",
       "      <th>DeckGroup</th>\n",
       "      <th>Family</th>\n",
       "      <th>Alone</th>\n",
       "      <th>TicketFreq</th>\n",
       "      <th>Title</th>\n",
       "    </tr>\n",
       "  </thead>\n",
       "  <tbody>\n",
       "    <tr>\n",
       "      <th>734</th>\n",
       "      <td>2</td>\n",
       "      <td>1</td>\n",
       "      <td>23.000</td>\n",
       "      <td>S</td>\n",
       "      <td>2.639</td>\n",
       "      <td>NaN</td>\n",
       "      <td>0</td>\n",
       "      <td>1</td>\n",
       "      <td>1</td>\n",
       "      <td>Mr</td>\n",
       "    </tr>\n",
       "    <tr>\n",
       "      <th>38</th>\n",
       "      <td>3</td>\n",
       "      <td>0</td>\n",
       "      <td>18.000</td>\n",
       "      <td>S</td>\n",
       "      <td>2.944</td>\n",
       "      <td>NaN</td>\n",
       "      <td>2</td>\n",
       "      <td>0</td>\n",
       "      <td>2</td>\n",
       "      <td>Miss</td>\n",
       "    </tr>\n",
       "    <tr>\n",
       "      <th>180</th>\n",
       "      <td>3</td>\n",
       "      <td>0</td>\n",
       "      <td>NaN</td>\n",
       "      <td>S</td>\n",
       "      <td>4.256</td>\n",
       "      <td>NaN</td>\n",
       "      <td>10</td>\n",
       "      <td>0</td>\n",
       "      <td>7</td>\n",
       "      <td>Miss</td>\n",
       "    </tr>\n",
       "    <tr>\n",
       "      <th>210</th>\n",
       "      <td>3</td>\n",
       "      <td>1</td>\n",
       "      <td>24.000</td>\n",
       "      <td>S</td>\n",
       "      <td>2.086</td>\n",
       "      <td>NaN</td>\n",
       "      <td>0</td>\n",
       "      <td>1</td>\n",
       "      <td>1</td>\n",
       "      <td>Mr</td>\n",
       "    </tr>\n",
       "    <tr>\n",
       "      <th>684</th>\n",
       "      <td>2</td>\n",
       "      <td>1</td>\n",
       "      <td>60.000</td>\n",
       "      <td>S</td>\n",
       "      <td>3.689</td>\n",
       "      <td>NaN</td>\n",
       "      <td>2</td>\n",
       "      <td>0</td>\n",
       "      <td>2</td>\n",
       "      <td>Mr</td>\n",
       "    </tr>\n",
       "  </tbody>\n",
       "</table>\n",
       "</div>"
      ],
      "text/plain": [
       "     Pclass  Sex    Age Embarked  LogFare DeckGroup  Family  Alone  \\\n",
       "734       2    1 23.000        S    2.639       NaN       0      1   \n",
       "38        3    0 18.000        S    2.944       NaN       2      0   \n",
       "180       3    0    NaN        S    4.256       NaN      10      0   \n",
       "210       3    1 24.000        S    2.086       NaN       0      1   \n",
       "684       2    1 60.000        S    3.689       NaN       2      0   \n",
       "\n",
       "     TicketFreq Title  \n",
       "734           1    Mr  \n",
       "38            2  Miss  \n",
       "180           7  Miss  \n",
       "210           1    Mr  \n",
       "684           2    Mr  "
      ]
     },
     "execution_count": 10,
     "metadata": {},
     "output_type": "execute_result"
    }
   ],
   "source": [
    "df.sample(n=5)"
   ]
  },
  {
   "cell_type": "markdown",
   "id": "b7fb3950-f60c-4d87-87ab-a71f1d98f04b",
   "metadata": {},
   "source": [
    "### Data Cleaning"
   ]
  },
  {
   "cell_type": "code",
   "execution_count": 11,
   "id": "6ba8cd3b-d97c-4c11-8d10-8f95255663fd",
   "metadata": {},
   "outputs": [
    {
     "data": {
      "text/plain": [
       "Pclass          0\n",
       "Sex             0\n",
       "Age           177\n",
       "Embarked        2\n",
       "LogFare         0\n",
       "DeckGroup     688\n",
       "Family          0\n",
       "Alone           0\n",
       "TicketFreq      0\n",
       "Title          27\n",
       "dtype: int64"
      ]
     },
     "execution_count": 11,
     "metadata": {},
     "output_type": "execute_result"
    }
   ],
   "source": [
    "df.isna().sum()"
   ]
  },
  {
   "cell_type": "code",
   "execution_count": 34,
   "id": "d4693785-2282-441c-9f39-495f04d119ab",
   "metadata": {},
   "outputs": [
    {
     "data": {
      "text/plain": [
       "Pclass            3\n",
       "Sex               1\n",
       "Age          24.000\n",
       "Embarked          S\n",
       "LogFare       2.203\n",
       "DeckGroup       ABC\n",
       "Family            0\n",
       "Alone             1\n",
       "TicketFreq        1\n",
       "Title            Mr\n",
       "Name: 0, dtype: object"
      ]
     },
     "execution_count": 34,
     "metadata": {},
     "output_type": "execute_result"
    }
   ],
   "source": [
    "# Fill missing values with the modes:\n",
    "train_modes = df.mode().iloc[0]\n",
    "train_modes\n"
   ]
  },
  {
   "cell_type": "code",
   "execution_count": 35,
   "id": "f14b52bc-11c3-4441-879a-28e21b0d1aa0",
   "metadata": {},
   "outputs": [],
   "source": [
    "def fill_missing(df, modes):\n",
    "    df = df.fillna(modes)\n",
    "    return df\n",
    "\n",
    "df = fill_missing(df, train_modes)"
   ]
  },
  {
   "cell_type": "code",
   "execution_count": 14,
   "id": "3fd873c7-9dd8-4ba1-b2e0-e4ddaa1c57fa",
   "metadata": {},
   "outputs": [
    {
     "data": {
      "text/html": [
       "<div>\n",
       "<style scoped>\n",
       "    .dataframe tbody tr th:only-of-type {\n",
       "        vertical-align: middle;\n",
       "    }\n",
       "\n",
       "    .dataframe tbody tr th {\n",
       "        vertical-align: top;\n",
       "    }\n",
       "\n",
       "    .dataframe thead th {\n",
       "        text-align: right;\n",
       "    }\n",
       "</style>\n",
       "<table border=\"1\" class=\"dataframe\">\n",
       "  <thead>\n",
       "    <tr style=\"text-align: right;\">\n",
       "      <th></th>\n",
       "      <th>Pclass</th>\n",
       "      <th>Sex</th>\n",
       "      <th>Age</th>\n",
       "      <th>Embarked</th>\n",
       "      <th>LogFare</th>\n",
       "      <th>DeckGroup</th>\n",
       "      <th>Family</th>\n",
       "      <th>Alone</th>\n",
       "      <th>TicketFreq</th>\n",
       "      <th>Title</th>\n",
       "    </tr>\n",
       "  </thead>\n",
       "  <tbody>\n",
       "    <tr>\n",
       "      <th>0</th>\n",
       "      <td>3</td>\n",
       "      <td>1</td>\n",
       "      <td>22.000</td>\n",
       "      <td>S</td>\n",
       "      <td>2.110</td>\n",
       "      <td>ABC</td>\n",
       "      <td>1</td>\n",
       "      <td>0</td>\n",
       "      <td>1</td>\n",
       "      <td>Mr</td>\n",
       "    </tr>\n",
       "    <tr>\n",
       "      <th>1</th>\n",
       "      <td>1</td>\n",
       "      <td>0</td>\n",
       "      <td>38.000</td>\n",
       "      <td>C</td>\n",
       "      <td>4.281</td>\n",
       "      <td>ABC</td>\n",
       "      <td>1</td>\n",
       "      <td>0</td>\n",
       "      <td>1</td>\n",
       "      <td>Mrs</td>\n",
       "    </tr>\n",
       "    <tr>\n",
       "      <th>2</th>\n",
       "      <td>3</td>\n",
       "      <td>0</td>\n",
       "      <td>26.000</td>\n",
       "      <td>S</td>\n",
       "      <td>2.189</td>\n",
       "      <td>ABC</td>\n",
       "      <td>0</td>\n",
       "      <td>1</td>\n",
       "      <td>1</td>\n",
       "      <td>Miss</td>\n",
       "    </tr>\n",
       "    <tr>\n",
       "      <th>3</th>\n",
       "      <td>1</td>\n",
       "      <td>0</td>\n",
       "      <td>35.000</td>\n",
       "      <td>S</td>\n",
       "      <td>3.991</td>\n",
       "      <td>ABC</td>\n",
       "      <td>1</td>\n",
       "      <td>0</td>\n",
       "      <td>2</td>\n",
       "      <td>Mrs</td>\n",
       "    </tr>\n",
       "    <tr>\n",
       "      <th>4</th>\n",
       "      <td>3</td>\n",
       "      <td>1</td>\n",
       "      <td>35.000</td>\n",
       "      <td>S</td>\n",
       "      <td>2.203</td>\n",
       "      <td>ABC</td>\n",
       "      <td>0</td>\n",
       "      <td>1</td>\n",
       "      <td>1</td>\n",
       "      <td>Mr</td>\n",
       "    </tr>\n",
       "    <tr>\n",
       "      <th>...</th>\n",
       "      <td>...</td>\n",
       "      <td>...</td>\n",
       "      <td>...</td>\n",
       "      <td>...</td>\n",
       "      <td>...</td>\n",
       "      <td>...</td>\n",
       "      <td>...</td>\n",
       "      <td>...</td>\n",
       "      <td>...</td>\n",
       "      <td>...</td>\n",
       "    </tr>\n",
       "    <tr>\n",
       "      <th>886</th>\n",
       "      <td>2</td>\n",
       "      <td>1</td>\n",
       "      <td>27.000</td>\n",
       "      <td>S</td>\n",
       "      <td>2.639</td>\n",
       "      <td>ABC</td>\n",
       "      <td>0</td>\n",
       "      <td>1</td>\n",
       "      <td>1</td>\n",
       "      <td>Mr</td>\n",
       "    </tr>\n",
       "    <tr>\n",
       "      <th>887</th>\n",
       "      <td>1</td>\n",
       "      <td>0</td>\n",
       "      <td>19.000</td>\n",
       "      <td>S</td>\n",
       "      <td>3.434</td>\n",
       "      <td>ABC</td>\n",
       "      <td>0</td>\n",
       "      <td>1</td>\n",
       "      <td>1</td>\n",
       "      <td>Miss</td>\n",
       "    </tr>\n",
       "    <tr>\n",
       "      <th>888</th>\n",
       "      <td>3</td>\n",
       "      <td>0</td>\n",
       "      <td>24.000</td>\n",
       "      <td>S</td>\n",
       "      <td>3.197</td>\n",
       "      <td>ABC</td>\n",
       "      <td>3</td>\n",
       "      <td>0</td>\n",
       "      <td>2</td>\n",
       "      <td>Miss</td>\n",
       "    </tr>\n",
       "    <tr>\n",
       "      <th>889</th>\n",
       "      <td>1</td>\n",
       "      <td>1</td>\n",
       "      <td>26.000</td>\n",
       "      <td>C</td>\n",
       "      <td>3.434</td>\n",
       "      <td>ABC</td>\n",
       "      <td>0</td>\n",
       "      <td>1</td>\n",
       "      <td>1</td>\n",
       "      <td>Mr</td>\n",
       "    </tr>\n",
       "    <tr>\n",
       "      <th>890</th>\n",
       "      <td>3</td>\n",
       "      <td>1</td>\n",
       "      <td>32.000</td>\n",
       "      <td>Q</td>\n",
       "      <td>2.169</td>\n",
       "      <td>ABC</td>\n",
       "      <td>0</td>\n",
       "      <td>1</td>\n",
       "      <td>1</td>\n",
       "      <td>Mr</td>\n",
       "    </tr>\n",
       "  </tbody>\n",
       "</table>\n",
       "<p>891 rows × 10 columns</p>\n",
       "</div>"
      ],
      "text/plain": [
       "     Pclass  Sex    Age Embarked  LogFare DeckGroup  Family  Alone  \\\n",
       "0         3    1 22.000        S    2.110       ABC       1      0   \n",
       "1         1    0 38.000        C    4.281       ABC       1      0   \n",
       "2         3    0 26.000        S    2.189       ABC       0      1   \n",
       "3         1    0 35.000        S    3.991       ABC       1      0   \n",
       "4         3    1 35.000        S    2.203       ABC       0      1   \n",
       "..      ...  ...    ...      ...      ...       ...     ...    ...   \n",
       "886       2    1 27.000        S    2.639       ABC       0      1   \n",
       "887       1    0 19.000        S    3.434       ABC       0      1   \n",
       "888       3    0 24.000        S    3.197       ABC       3      0   \n",
       "889       1    1 26.000        C    3.434       ABC       0      1   \n",
       "890       3    1 32.000        Q    2.169       ABC       0      1   \n",
       "\n",
       "     TicketFreq Title  \n",
       "0             1    Mr  \n",
       "1             1   Mrs  \n",
       "2             1  Miss  \n",
       "3             2   Mrs  \n",
       "4             1    Mr  \n",
       "..          ...   ...  \n",
       "886           1    Mr  \n",
       "887           1  Miss  \n",
       "888           2  Miss  \n",
       "889           1    Mr  \n",
       "890           1    Mr  \n",
       "\n",
       "[891 rows x 10 columns]"
      ]
     },
     "execution_count": 14,
     "metadata": {},
     "output_type": "execute_result"
    }
   ],
   "source": [
    "df"
   ]
  },
  {
   "cell_type": "code",
   "execution_count": 36,
   "id": "d424cfc1-8936-4579-99cd-7ce17b87ded4",
   "metadata": {},
   "outputs": [
    {
     "data": {
      "text/plain": [
       "count   891.000\n",
       "mean      0.354\n",
       "std       0.166\n",
       "min       0.000\n",
       "25%       0.271\n",
       "50%       0.296\n",
       "75%       0.435\n",
       "max       1.000\n",
       "Name: Age, dtype: float64"
      ]
     },
     "execution_count": 36,
     "metadata": {},
     "output_type": "execute_result"
    }
   ],
   "source": [
    "# Perform min-max scaling:\n",
    "def scale_min_max(df, col_name, xmin, xmax):\n",
    "    df[col_name] = (df[col_name] - xmin) / (xmax - xmin)\n",
    "    return df\n",
    "\n",
    "train_age_min = df['Age'].min()\n",
    "train_age_max = df['Age'].max()\n",
    "df = scale_min_max(df, 'Age', train_age_min, train_age_max)\n",
    "\n",
    "df['Age'].describe()"
   ]
  },
  {
   "cell_type": "code",
   "execution_count": 43,
   "id": "36e23bf9-4879-4782-a773-2d575577a025",
   "metadata": {},
   "outputs": [
    {
     "name": "stdout",
     "output_type": "stream",
     "text": [
      "Index(['Sex', 'Age', 'LogFare', 'Family', 'Alone', 'TicketFreq', 'Pclass_1',\n",
      "       'Pclass_2', 'Pclass_3', 'Embarked_C', 'Embarked_Q', 'Embarked_S',\n",
      "       'DeckGroup_ABC', 'DeckGroup_DE', 'DeckGroup_FG', 'Title_Master',\n",
      "       'Title_Miss', 'Title_Mr', 'Title_Mrs'],\n",
      "      dtype='object') \n",
      " 19\n"
     ]
    }
   ],
   "source": [
    "def add_dummies(df, cols):\n",
    "    df = pd.get_dummies(df, columns=cols, dtype=int)\n",
    "    return df\n",
    "\n",
    "cols = ['Pclass', 'Embarked', 'DeckGroup', 'Title']\n",
    "df = add_dummies(df, cols)\n",
    "\n",
    "print(df.columns, '\\n', len(df.columns))"
   ]
  },
  {
   "cell_type": "code",
   "execution_count": 45,
   "id": "3d1b7cc4-c775-42d1-a6b5-398026f1f82e",
   "metadata": {},
   "outputs": [
    {
     "data": {
      "text/html": [
       "<div>\n",
       "<style scoped>\n",
       "    .dataframe tbody tr th:only-of-type {\n",
       "        vertical-align: middle;\n",
       "    }\n",
       "\n",
       "    .dataframe tbody tr th {\n",
       "        vertical-align: top;\n",
       "    }\n",
       "\n",
       "    .dataframe thead th {\n",
       "        text-align: right;\n",
       "    }\n",
       "</style>\n",
       "<table border=\"1\" class=\"dataframe\">\n",
       "  <thead>\n",
       "    <tr style=\"text-align: right;\">\n",
       "      <th></th>\n",
       "      <th>Sex</th>\n",
       "      <th>Age</th>\n",
       "      <th>LogFare</th>\n",
       "      <th>Family</th>\n",
       "      <th>Alone</th>\n",
       "      <th>TicketFreq</th>\n",
       "      <th>Pclass_1</th>\n",
       "      <th>Pclass_2</th>\n",
       "      <th>Pclass_3</th>\n",
       "      <th>Embarked_C</th>\n",
       "      <th>Embarked_Q</th>\n",
       "      <th>Embarked_S</th>\n",
       "      <th>DeckGroup_ABC</th>\n",
       "      <th>DeckGroup_DE</th>\n",
       "      <th>DeckGroup_FG</th>\n",
       "      <th>Title_Master</th>\n",
       "      <th>Title_Miss</th>\n",
       "      <th>Title_Mr</th>\n",
       "      <th>Title_Mrs</th>\n",
       "    </tr>\n",
       "  </thead>\n",
       "  <tbody>\n",
       "    <tr>\n",
       "      <th>306</th>\n",
       "      <td>1</td>\n",
       "      <td>0.372</td>\n",
       "      <td>5.027</td>\n",
       "      <td>3</td>\n",
       "      <td>0</td>\n",
       "      <td>2</td>\n",
       "      <td>1</td>\n",
       "      <td>0</td>\n",
       "      <td>0</td>\n",
       "      <td>0</td>\n",
       "      <td>0</td>\n",
       "      <td>1</td>\n",
       "      <td>1</td>\n",
       "      <td>0</td>\n",
       "      <td>0</td>\n",
       "      <td>0</td>\n",
       "      <td>0</td>\n",
       "      <td>1</td>\n",
       "      <td>0</td>\n",
       "    </tr>\n",
       "    <tr>\n",
       "      <th>214</th>\n",
       "      <td>0</td>\n",
       "      <td>0.472</td>\n",
       "      <td>2.172</td>\n",
       "      <td>6</td>\n",
       "      <td>0</td>\n",
       "      <td>1</td>\n",
       "      <td>0</td>\n",
       "      <td>0</td>\n",
       "      <td>1</td>\n",
       "      <td>0</td>\n",
       "      <td>0</td>\n",
       "      <td>1</td>\n",
       "      <td>1</td>\n",
       "      <td>0</td>\n",
       "      <td>0</td>\n",
       "      <td>0</td>\n",
       "      <td>1</td>\n",
       "      <td>0</td>\n",
       "      <td>0</td>\n",
       "    </tr>\n",
       "    <tr>\n",
       "      <th>133</th>\n",
       "      <td>1</td>\n",
       "      <td>0.296</td>\n",
       "      <td>2.007</td>\n",
       "      <td>1</td>\n",
       "      <td>0</td>\n",
       "      <td>1</td>\n",
       "      <td>0</td>\n",
       "      <td>0</td>\n",
       "      <td>1</td>\n",
       "      <td>1</td>\n",
       "      <td>0</td>\n",
       "      <td>0</td>\n",
       "      <td>1</td>\n",
       "      <td>0</td>\n",
       "      <td>0</td>\n",
       "      <td>0</td>\n",
       "      <td>0</td>\n",
       "      <td>1</td>\n",
       "      <td>0</td>\n",
       "    </tr>\n",
       "    <tr>\n",
       "      <th>294</th>\n",
       "      <td>1</td>\n",
       "      <td>0.447</td>\n",
       "      <td>2.351</td>\n",
       "      <td>0</td>\n",
       "      <td>1</td>\n",
       "      <td>1</td>\n",
       "      <td>0</td>\n",
       "      <td>0</td>\n",
       "      <td>1</td>\n",
       "      <td>0</td>\n",
       "      <td>0</td>\n",
       "      <td>1</td>\n",
       "      <td>1</td>\n",
       "      <td>0</td>\n",
       "      <td>0</td>\n",
       "      <td>0</td>\n",
       "      <td>0</td>\n",
       "      <td>1</td>\n",
       "      <td>0</td>\n",
       "    </tr>\n",
       "    <tr>\n",
       "      <th>118</th>\n",
       "      <td>1</td>\n",
       "      <td>0.447</td>\n",
       "      <td>4.334</td>\n",
       "      <td>0</td>\n",
       "      <td>1</td>\n",
       "      <td>2</td>\n",
       "      <td>1</td>\n",
       "      <td>0</td>\n",
       "      <td>0</td>\n",
       "      <td>1</td>\n",
       "      <td>0</td>\n",
       "      <td>0</td>\n",
       "      <td>1</td>\n",
       "      <td>0</td>\n",
       "      <td>0</td>\n",
       "      <td>0</td>\n",
       "      <td>0</td>\n",
       "      <td>1</td>\n",
       "      <td>0</td>\n",
       "    </tr>\n",
       "  </tbody>\n",
       "</table>\n",
       "</div>"
      ],
      "text/plain": [
       "     Sex   Age  LogFare  Family  Alone  TicketFreq  Pclass_1  Pclass_2  \\\n",
       "306    1 0.372    5.027       3      0           2         1         0   \n",
       "214    0 0.472    2.172       6      0           1         0         0   \n",
       "133    1 0.296    2.007       1      0           1         0         0   \n",
       "294    1 0.447    2.351       0      1           1         0         0   \n",
       "118    1 0.447    4.334       0      1           2         1         0   \n",
       "\n",
       "     Pclass_3  Embarked_C  Embarked_Q  Embarked_S  DeckGroup_ABC  \\\n",
       "306         0           0           0           1              1   \n",
       "214         1           0           0           1              1   \n",
       "133         1           1           0           0              1   \n",
       "294         1           0           0           1              1   \n",
       "118         0           1           0           0              1   \n",
       "\n",
       "     DeckGroup_DE  DeckGroup_FG  Title_Master  Title_Miss  Title_Mr  Title_Mrs  \n",
       "306             0             0             0           0         1          0  \n",
       "214             0             0             0           1         0          0  \n",
       "133             0             0             0           0         1          0  \n",
       "294             0             0             0           0         1          0  \n",
       "118             0             0             0           0         1          0  "
      ]
     },
     "execution_count": 45,
     "metadata": {},
     "output_type": "execute_result"
    }
   ],
   "source": [
    "# Apply the same data processing steps to the test set:\n",
    "test_proc = (test_df.pipe(feature_engineering)\n",
    "                    .drop(['Name', 'Ticket', 'Cabin', 'PassengerId', 'Fare', 'SibSp', 'Parch'], axis=1)\n",
    "                    .pipe(fill_missing, train_modes)\n",
    "                    .pipe(scale_min_max, 'Age', train_age_min, train_age_max)\n",
    "                    .pipe(add_dummies, cols)\n",
    ")\n",
    "\n",
    "test_proc.sample(5)"
   ]
  },
  {
   "cell_type": "markdown",
   "id": "e3337b4e-2248-4266-98c4-a61895dbb603",
   "metadata": {},
   "source": [
    "### Model Training\n",
    "\n"
   ]
  },
  {
   "cell_type": "code",
   "execution_count": 47,
   "id": "9ea2c38b-458f-4b92-aa88-88b36506145b",
   "metadata": {},
   "outputs": [
    {
     "data": {
      "text/plain": [
       "(torch.Tensor, torch.Tensor)"
      ]
     },
     "execution_count": 47,
     "metadata": {},
     "output_type": "execute_result"
    }
   ],
   "source": [
    "# Convert to tensors\n",
    "x_data = torch.tensor(df.values, dtype=torch.float32)\n",
    "y_data = torch.tensor(train_labels.values, dtype=torch.float32)\n",
    "\n",
    "type(x_data), type(y_data)"
   ]
  },
  {
   "cell_type": "code",
   "execution_count": 50,
   "id": "706f26f0-65cb-4640-8aaa-eb38d8b170df",
   "metadata": {},
   "outputs": [
    {
     "name": "stdout",
     "output_type": "stream",
     "text": [
      "x_train: torch.Size([668, 19])\n",
      "y_train: torch.Size([668])\n",
      "x_valid: torch.Size([223, 19])\n",
      "y_valid: torch.Size([223])\n"
     ]
    }
   ],
   "source": [
    "# Split the data into training and validation sets\n",
    "x_train, x_valid, y_train, y_valid = train_test_split(x_data, y_data, test_size=0.25, shuffle=True)\n",
    "\n",
    "print('x_train:', x_train.shape)\n",
    "print('y_train:', y_train.shape)\n",
    "print('x_valid:', x_valid.shape)\n",
    "print('y_valid:', y_valid.shape)"
   ]
  },
  {
   "cell_type": "code",
   "execution_count": 51,
   "id": "da1259f7-711e-407b-945e-d3341993a4e9",
   "metadata": {},
   "outputs": [
    {
     "data": {
      "text/plain": [
       "'cpu'"
      ]
     },
     "execution_count": 51,
     "metadata": {},
     "output_type": "execute_result"
    }
   ],
   "source": [
    "# Assign the available processor to device:\n",
    "device = 'cuda' if torch.cuda.is_available() else 'cpu'\n",
    "device"
   ]
  },
  {
   "cell_type": "code",
   "execution_count": 52,
   "id": "96514f95-3665-4f52-b8ce-96a701260253",
   "metadata": {},
   "outputs": [],
   "source": [
    "# Define a neural network with linear, ReLU, and dropout layers\n",
    "class TitanicModel(nn.Module):\n",
    "    def __init__(self):\n",
    "        super().__init__()\n",
    "        self.linear1 = nn.Linear(19, 64)\n",
    "        self.linear2 = nn.Linear(64, 128)\n",
    "        self.linear3 = nn.Linear(128, 96)\n",
    "        self.linear4 = nn.Linear(96, 32)\n",
    "        self.linear5 = nn.Linear(32, 1)\n",
    "        self.relu = nn.ReLU()\n",
    "        self.dropout = nn.Dropout(p=0.25)\n",
    "    def forward(self, x):\n",
    "        x = self.relu(self.linear1(x))\n",
    "        x = self.dropout(x)\n",
    "        x = self.relu(self.linear2(x))\n",
    "        x = self.dropout(x)\n",
    "        x = self.relu(self.linear3(x))\n",
    "        x = self.dropout(x)\n",
    "        x = self.relu(self.linear4(x))\n",
    "        x = self.linear5(x)\n",
    "        return x"
   ]
  },
  {
   "cell_type": "code",
   "execution_count": 53,
   "id": "f47e0e3c-1983-4efc-94ac-096b5cfbfbc7",
   "metadata": {},
   "outputs": [
    {
     "data": {
      "text/plain": [
       "TitanicModel(\n",
       "  (linear1): Linear(in_features=19, out_features=64, bias=True)\n",
       "  (linear2): Linear(in_features=64, out_features=128, bias=True)\n",
       "  (linear3): Linear(in_features=128, out_features=96, bias=True)\n",
       "  (linear4): Linear(in_features=96, out_features=32, bias=True)\n",
       "  (linear5): Linear(in_features=32, out_features=1, bias=True)\n",
       "  (relu): ReLU()\n",
       "  (dropout): Dropout(p=0.25, inplace=False)\n",
       ")"
      ]
     },
     "execution_count": 53,
     "metadata": {},
     "output_type": "execute_result"
    }
   ],
   "source": [
    "# Instantiate the model and move to device:\n",
    "model = TitanicModel().to(device)\n",
    "model"
   ]
  },
  {
   "cell_type": "code",
   "execution_count": 54,
   "id": "d377ace2-4312-4559-a16e-4b37c7747e1c",
   "metadata": {},
   "outputs": [],
   "source": [
    "# Define hyperparameters:\n",
    "learning_rate = 0.003\n",
    "\n",
    "loss_fn = nn.BCEWithLogitsLoss()\n",
    "\n",
    "optimizer = torch.optim.SGD(params=model.parameters(), lr=learning_rate)"
   ]
  },
  {
   "cell_type": "code",
   "execution_count": 55,
   "id": "66bf9360-cab2-46fb-bacc-c87721b23ed7",
   "metadata": {},
   "outputs": [
    {
     "name": "stdout",
     "output_type": "stream",
     "text": [
      "logits: tensor([[-0.0555],\n",
      "        [-0.0077],\n",
      "        [-0.0107],\n",
      "        [-0.0245],\n",
      "        [-0.0348]], grad_fn=<SliceBackward0>)\n",
      "probabilities: tensor([[0.],\n",
      "        [0.],\n",
      "        [0.],\n",
      "        [0.],\n",
      "        [0.]], grad_fn=<SliceBackward0>)\n"
     ]
    }
   ],
   "source": [
    "# Perform forward pass to check\n",
    "# Forward pass\n",
    "logits = model(x_train)\n",
    "print('logits:', logits[:5])\n",
    "\n",
    "# Logits -> Probabilities b/n 0 and 1 -> Rounded to 0 or 1\n",
    "pred_probab = torch.round(torch.sigmoid(logits))\n",
    "print('probabilities:', pred_probab[0:5])"
   ]
  },
  {
   "cell_type": "code",
   "execution_count": 56,
   "id": "4a8b8b00-06c4-4754-bd19-0b894b14d7c9",
   "metadata": {},
   "outputs": [],
   "source": [
    "# Define accuracy function\n",
    "def accuracy_fn(y_true, y_pred):\n",
    "    correct = torch.eq(y_true, y_pred).sum().item()\n",
    "    acc = correct / len(y_pred) * 100\n",
    "    return acc"
   ]
  },
  {
   "cell_type": "code",
   "execution_count": 86,
   "id": "37b2b667-e17a-41bf-8b03-3751a4f954c3",
   "metadata": {},
   "outputs": [
    {
     "name": "stdout",
     "output_type": "stream",
     "text": [
      "Epoch:    0 | Train Loss: 0.68956, Accuracy: 60.63% | Validation Loss: 0.68833, Accuracy: 64.13%\n",
      "Epoch:  500 | Train Loss: 0.67801, Accuracy: 60.78% | Validation Loss: 0.67117, Accuracy: 64.13%\n",
      "Epoch: 1000 | Train Loss: 0.67199, Accuracy: 60.78% | Validation Loss: 0.66279, Accuracy: 64.13%\n",
      "Epoch: 1500 | Train Loss: 0.66966, Accuracy: 60.78% | Validation Loss: 0.65822, Accuracy: 64.13%\n",
      "Epoch: 2000 | Train Loss: 0.66861, Accuracy: 60.78% | Validation Loss: 0.65535, Accuracy: 64.13%\n",
      "Epoch: 2500 | Train Loss: 0.66771, Accuracy: 60.78% | Validation Loss: 0.65314, Accuracy: 64.13%\n",
      "Epoch: 3000 | Train Loss: 0.66622, Accuracy: 60.78% | Validation Loss: 0.65119, Accuracy: 64.13%\n",
      "Epoch: 3500 | Train Loss: 0.66521, Accuracy: 60.78% | Validation Loss: 0.64923, Accuracy: 64.13%\n",
      "Epoch: 4000 | Train Loss: 0.66283, Accuracy: 60.78% | Validation Loss: 0.64677, Accuracy: 64.13%\n",
      "Epoch: 4500 | Train Loss: 0.66017, Accuracy: 60.78% | Validation Loss: 0.64342, Accuracy: 64.13%\n",
      "Epoch: 5000 | Train Loss: 0.65465, Accuracy: 60.78% | Validation Loss: 0.63846, Accuracy: 64.13%\n",
      "Epoch: 5500 | Train Loss: 0.65024, Accuracy: 60.78% | Validation Loss: 0.63064, Accuracy: 64.13%\n",
      "Epoch: 6000 | Train Loss: 0.63957, Accuracy: 60.78% | Validation Loss: 0.61802, Accuracy: 64.13%\n",
      "Epoch: 6500 | Train Loss: 0.62112, Accuracy: 60.63% | Validation Loss: 0.59807, Accuracy: 64.13%\n",
      "Epoch: 7000 | Train Loss: 0.59653, Accuracy: 64.67% | Validation Loss: 0.56829, Accuracy: 74.44%\n",
      "Epoch: 7500 | Train Loss: 0.55796, Accuracy: 73.50% | Validation Loss: 0.52770, Accuracy: 79.37%\n",
      "Epoch: 8000 | Train Loss: 0.52766, Accuracy: 77.25% | Validation Loss: 0.48361, Accuracy: 81.17%\n",
      "Epoch: 8500 | Train Loss: 0.49855, Accuracy: 77.10% | Validation Loss: 0.45140, Accuracy: 82.96%\n",
      "Epoch: 9000 | Train Loss: 0.48197, Accuracy: 79.64% | Validation Loss: 0.43398, Accuracy: 82.51%\n",
      "Epoch: 9500 | Train Loss: 0.47266, Accuracy: 78.74% | Validation Loss: 0.42509, Accuracy: 82.51%\n"
     ]
    }
   ],
   "source": [
    "# Train the model\n",
    "# Number of epochs\n",
    "epochs = 10000\n",
    "\n",
    "# Send data to the device\n",
    "x_train, x_valid = x_train.to(device), x_valid.to(device)\n",
    "y_train, y_valid = y_train.to(device), y_valid.to(device)\n",
    "\n",
    "# Empty loss lists to track values\n",
    "epoch_count, train_loss_values, valid_loss_values = [], [], []\n",
    "\n",
    "# Loop through the data\n",
    "for epoch in range(epochs):\n",
    "\n",
    "    # Put the model in training mode\n",
    "    model.train()\n",
    "\n",
    "    y_logits = model(x_train).squeeze() # forward pass to get predictions; squeeze the logits into the same shape as the labels\n",
    "    y_pred = torch.round(torch.sigmoid(y_logits)) # convert logits into prediction probabilities\n",
    "\n",
    "    loss = loss_fn(y_logits, y_train) # compute the loss   \n",
    "    acc = accuracy_fn(y_train.int(), y_pred) # calculate the accuracy; convert the labels to integers\n",
    "\n",
    "    optimizer.zero_grad() # reset the gradients so they don't accumulate each iteration\n",
    "    loss.backward() # backward pass: backpropagate the prediction loss\n",
    "    optimizer.step() # gradient descent: adjust the parameters by the gradients collected in the backward pass\n",
    "    \n",
    "    # Put the model in evaluation mode\n",
    "    model.eval() \n",
    "\n",
    "    with torch.inference_mode():\n",
    "        valid_logits = model(x_valid).squeeze()\n",
    "        valid_pred = torch.round(torch.sigmoid(valid_logits))    \n",
    "\n",
    "        valid_loss = loss_fn(valid_logits, y_valid)\n",
    "        valid_acc = accuracy_fn(y_valid.int(), valid_pred)    \n",
    "    \n",
    "    # Print progress a total of 20 times\n",
    "    if epoch % int(epochs / 20) == 0:\n",
    "        print(f'Epoch: {epoch:4.0f} | Train Loss: {loss:.5f}, Accuracy: {acc:.2f}% | Validation Loss: {valid_loss:.5f}, Accuracy: {valid_acc:.2f}%')\n",
    "\n",
    "        epoch_count.append(epoch)\n",
    "        train_loss_values.append(loss.detach().numpy())\n",
    "        valid_loss_values.append(valid_loss.detach().numpy())"
   ]
  },
  {
   "cell_type": "code",
   "execution_count": 94,
   "id": "278153a8-dd72-48e7-9486-7a8597fd2f03",
   "metadata": {},
   "outputs": [
    {
     "data": {
      "image/png": "[encoded data removed]",
      "text/plain": [
       "<Figure size 640x480 with 1 Axes>"
      ]
     },
     "metadata": {},
     "output_type": "display_data"
    }
   ],
   "source": [
    "# Plot loss curves\n",
    "plt.plot(epoch_count, train_loss_values, label='Training Loss')\n",
    "plt.plot(epoch_count, valid_loss_values, label='Validation Loss')\n",
    "plt.title('Training & Validation Loss Curves')\n",
    "plt.ylabel('Loss')\n",
    "plt.xlabel('Epochs')\n",
    "plt.legend()\n",
    "plt.show()"
   ]
  },
  {
   "cell_type": "markdown",
   "id": "5da1fdb5-29f3-45be-9103-67db81921fc7",
   "metadata": {},
   "source": [
    "### Inference"
   ]
  },
  {
   "cell_type": "code",
   "execution_count": 95,
   "id": "0f9af373-999f-4f5a-a6a4-da7ddb6a8f2a",
   "metadata": {},
   "outputs": [
    {
     "data": {
      "text/plain": [
       "torch.Tensor"
      ]
     },
     "execution_count": 95,
     "metadata": {},
     "output_type": "execute_result"
    }
   ],
   "source": [
    "# Convert test data to tensors\n",
    "x_test = torch.tensor(test_proc.values, dtype=torch.float32)\n",
    "\n",
    "type(x_test)"
   ]
  },
  {
   "cell_type": "code",
   "execution_count": 96,
   "id": "7abf9c9d-0528-4151-8d5d-03fa5e382d46",
   "metadata": {},
   "outputs": [
    {
     "data": {
      "text/plain": [
       "(torch.Size([418]), tensor([0, 1, 0, 0, 1], dtype=torch.int32))"
      ]
     },
     "execution_count": 96,
     "metadata": {},
     "output_type": "execute_result"
    }
   ],
   "source": [
    "# Make predictions on test data\n",
    "model.eval()\n",
    "\n",
    "with torch.inference_mode():\n",
    "    test_logits = model(x_test).squeeze()\n",
    "    test_pred = torch.round(torch.sigmoid(test_logits)).int()\n",
    "\n",
    "test_pred.shape, test_pred[:5]"
   ]
  },
  {
   "cell_type": "code",
   "execution_count": null,
   "id": "77731a3e-cbf6-45d9-a75a-3a2043459fa9",
   "metadata": {},
   "outputs": [],
   "source": []
  },
  {
   "cell_type": "code",
   "execution_count": null,
   "id": "6ae87390-5839-46b5-8b7f-103efe614220",
   "metadata": {},
   "outputs": [],
   "source": []
  },
  {
   "cell_type": "markdown",
   "id": "c019e3f4-1352-4242-b0ba-7c050449e0f4",
   "metadata": {},
   "source": [
    "## Akshaj Verma - Medium TDS (Lower back pain)\n",
    "https://medium.com/towards-data-science/pytorch-tabular-binary-classification-a0368da5bb89"
   ]
  },
  {
   "cell_type": "code",
   "execution_count": 2,
   "id": "cc02a4af-ac41-4d70-857e-0d31c111e95e",
   "metadata": {},
   "outputs": [],
   "source": [
    "import numpy as np\n",
    "import pandas as pd\n",
    "import seaborn as sns\n",
    "import matplotlib.pyplot as plt\n",
    "\n",
    "import torch\n",
    "import torch.nn as nn\n",
    "import torch.optim as optim\n",
    "from torch.utils.data import Dataset, DataLoader\n",
    "\n",
    "from sklearn.preprocessing import StandardScaler    \n",
    "from sklearn.model_selection import train_test_split\n",
    "from sklearn.metrics import confusion_matrix, classification_report"
   ]
  },
  {
   "cell_type": "code",
   "execution_count": 3,
   "id": "dfd86560-2168-42f5-97ff-0265949627c9",
   "metadata": {},
   "outputs": [
    {
     "data": {
      "text/html": [
       "<div>\n",
       "<style scoped>\n",
       "    .dataframe tbody tr th:only-of-type {\n",
       "        vertical-align: middle;\n",
       "    }\n",
       "\n",
       "    .dataframe tbody tr th {\n",
       "        vertical-align: top;\n",
       "    }\n",
       "\n",
       "    .dataframe thead th {\n",
       "        text-align: right;\n",
       "    }\n",
       "</style>\n",
       "<table border=\"1\" class=\"dataframe\">\n",
       "  <thead>\n",
       "    <tr style=\"text-align: right;\">\n",
       "      <th></th>\n",
       "      <th>Col1</th>\n",
       "      <th>Col2</th>\n",
       "      <th>Col3</th>\n",
       "      <th>Col4</th>\n",
       "      <th>Col5</th>\n",
       "      <th>Col6</th>\n",
       "      <th>Col7</th>\n",
       "      <th>Col8</th>\n",
       "      <th>Col9</th>\n",
       "      <th>Col10</th>\n",
       "      <th>Col11</th>\n",
       "      <th>Col12</th>\n",
       "      <th>Class_att</th>\n",
       "    </tr>\n",
       "  </thead>\n",
       "  <tbody>\n",
       "    <tr>\n",
       "      <th>0</th>\n",
       "      <td>63.027817</td>\n",
       "      <td>22.552586</td>\n",
       "      <td>39.609117</td>\n",
       "      <td>40.475232</td>\n",
       "      <td>98.672917</td>\n",
       "      <td>-0.254400</td>\n",
       "      <td>0.744503</td>\n",
       "      <td>12.5661</td>\n",
       "      <td>14.5386</td>\n",
       "      <td>15.30468</td>\n",
       "      <td>-28.658501</td>\n",
       "      <td>43.5123</td>\n",
       "      <td>Abnormal</td>\n",
       "    </tr>\n",
       "    <tr>\n",
       "      <th>1</th>\n",
       "      <td>39.056951</td>\n",
       "      <td>10.060991</td>\n",
       "      <td>25.015378</td>\n",
       "      <td>28.995960</td>\n",
       "      <td>114.405425</td>\n",
       "      <td>4.564259</td>\n",
       "      <td>0.415186</td>\n",
       "      <td>12.8874</td>\n",
       "      <td>17.5323</td>\n",
       "      <td>16.78486</td>\n",
       "      <td>-25.530607</td>\n",
       "      <td>16.1102</td>\n",
       "      <td>Abnormal</td>\n",
       "    </tr>\n",
       "    <tr>\n",
       "      <th>2</th>\n",
       "      <td>68.832021</td>\n",
       "      <td>22.218482</td>\n",
       "      <td>50.092194</td>\n",
       "      <td>46.613539</td>\n",
       "      <td>105.985135</td>\n",
       "      <td>-3.530317</td>\n",
       "      <td>0.474889</td>\n",
       "      <td>26.8343</td>\n",
       "      <td>17.4861</td>\n",
       "      <td>16.65897</td>\n",
       "      <td>-29.031888</td>\n",
       "      <td>19.2221</td>\n",
       "      <td>Abnormal</td>\n",
       "    </tr>\n",
       "    <tr>\n",
       "      <th>3</th>\n",
       "      <td>69.297008</td>\n",
       "      <td>24.652878</td>\n",
       "      <td>44.311238</td>\n",
       "      <td>44.644130</td>\n",
       "      <td>101.868495</td>\n",
       "      <td>11.211523</td>\n",
       "      <td>0.369345</td>\n",
       "      <td>23.5603</td>\n",
       "      <td>12.7074</td>\n",
       "      <td>11.42447</td>\n",
       "      <td>-30.470246</td>\n",
       "      <td>18.8329</td>\n",
       "      <td>Abnormal</td>\n",
       "    </tr>\n",
       "    <tr>\n",
       "      <th>4</th>\n",
       "      <td>49.712859</td>\n",
       "      <td>9.652075</td>\n",
       "      <td>28.317406</td>\n",
       "      <td>40.060784</td>\n",
       "      <td>108.168725</td>\n",
       "      <td>7.918501</td>\n",
       "      <td>0.543360</td>\n",
       "      <td>35.4940</td>\n",
       "      <td>15.9546</td>\n",
       "      <td>8.87237</td>\n",
       "      <td>-16.378376</td>\n",
       "      <td>24.9171</td>\n",
       "      <td>Abnormal</td>\n",
       "    </tr>\n",
       "  </tbody>\n",
       "</table>\n",
       "</div>"
      ],
      "text/plain": [
       "        Col1       Col2       Col3       Col4        Col5       Col6  \\\n",
       "0  63.027817  22.552586  39.609117  40.475232   98.672917  -0.254400   \n",
       "1  39.056951  10.060991  25.015378  28.995960  114.405425   4.564259   \n",
       "2  68.832021  22.218482  50.092194  46.613539  105.985135  -3.530317   \n",
       "3  69.297008  24.652878  44.311238  44.644130  101.868495  11.211523   \n",
       "4  49.712859   9.652075  28.317406  40.060784  108.168725   7.918501   \n",
       "\n",
       "       Col7     Col8     Col9     Col10      Col11    Col12 Class_att  \n",
       "0  0.744503  12.5661  14.5386  15.30468 -28.658501  43.5123  Abnormal  \n",
       "1  0.415186  12.8874  17.5323  16.78486 -25.530607  16.1102  Abnormal  \n",
       "2  0.474889  26.8343  17.4861  16.65897 -29.031888  19.2221  Abnormal  \n",
       "3  0.369345  23.5603  12.7074  11.42447 -30.470246  18.8329  Abnormal  \n",
       "4  0.543360  35.4940  15.9546   8.87237 -16.378376  24.9171  Abnormal  "
      ]
     },
     "execution_count": 3,
     "metadata": {},
     "output_type": "execute_result"
    }
   ],
   "source": [
    "# Read data\n",
    "df = pd.read_csv(PATH+\"Dataset_spine.csv\")\n",
    "\n",
    "df.drop(df.columns[-1], axis=1, inplace=True)\n",
    "df.head()"
   ]
  },
  {
   "cell_type": "markdown",
   "id": "f4af21a5-8b6a-44d3-94d3-4d91f2a7c819",
   "metadata": {},
   "source": [
    "### EDA and Preprocessing"
   ]
  },
  {
   "cell_type": "code",
   "execution_count": 5,
   "id": "0dfc11b0-89eb-4c88-a2ec-59194e72887b",
   "metadata": {},
   "outputs": [
    {
     "data": {
      "image/png": "[encoded data removed]",
      "text/plain": [
       "<Figure size 640x480 with 1 Axes>"
      ]
     },
     "metadata": {},
     "output_type": "display_data"
    }
   ],
   "source": [
    "# Class Distribution\n",
    "sns.countplot(x = 'Class_att', data=df)\n",
    "plt.show()"
   ]
  },
  {
   "cell_type": "code",
   "execution_count": 4,
   "id": "507b71ae-1480-45a3-9612-f2e71c5a3443",
   "metadata": {},
   "outputs": [],
   "source": [
    "# Encode Output Class\n",
    "df['Class_att'] = df['Class_att'].map({'Abnormal': 1, 'Normal': 0}).astype(int)"
   ]
  },
  {
   "cell_type": "code",
   "execution_count": 5,
   "id": "b4671e4d-859d-4ea0-81f3-5f9cb0c37664",
   "metadata": {},
   "outputs": [],
   "source": [
    "# Create Input and Output Data\n",
    "X = df.iloc[:, 0:-1]\n",
    "y = df.iloc[:, -1]"
   ]
  },
  {
   "cell_type": "code",
   "execution_count": 6,
   "id": "c3280531-1a83-45f3-973b-c2e40e74e26d",
   "metadata": {},
   "outputs": [],
   "source": [
    "# Train/Test split\n",
    "X_train, X_test, y_train, y_test = train_test_split(X, y, test_size=0.33, random_state=69)"
   ]
  },
  {
   "cell_type": "code",
   "execution_count": 7,
   "id": "8262e2be-0ad6-4976-9b83-ba96ea4eff2f",
   "metadata": {},
   "outputs": [],
   "source": [
    "# Standardize Input\n",
    "scaler = StandardScaler()\n",
    "X_train = scaler.fit_transform(X_train)\n",
    "X_test = scaler.transform(X_test)"
   ]
  },
  {
   "cell_type": "markdown",
   "id": "00b45026-44e9-46bc-a539-75245078b7fa",
   "metadata": {},
   "source": [
    "### Model Parameters"
   ]
  },
  {
   "cell_type": "code",
   "execution_count": 10,
   "id": "c043a66a-f27d-4bf9-9653-a75c0d13b26b",
   "metadata": {},
   "outputs": [],
   "source": [
    "EPOCHS = 50\n",
    "BATCH_SIZE = 64\n",
    "LEARNING_RATE = 0.001"
   ]
  },
  {
   "cell_type": "markdown",
   "id": "5b707171-5c33-4f92-a44c-740221256347",
   "metadata": {},
   "source": [
    "### Define Custom Dataloaders"
   ]
  },
  {
   "cell_type": "code",
   "execution_count": 11,
   "id": "a257c178-f35b-4c04-80b3-f6c9830171c4",
   "metadata": {},
   "outputs": [],
   "source": [
    "## train data\n",
    "class TrainData(Dataset):\n",
    "    \n",
    "    def __init__(self, X_data, y_data):\n",
    "        self.X_data = X_data\n",
    "        self.y_data = y_data\n",
    "        \n",
    "    def __getitem__(self, index):\n",
    "        return self.X_data[index], self.y_data[index]\n",
    "        \n",
    "    def __len__ (self):\n",
    "        return len(self.X_data)\n",
    "\n",
    "\n",
    "train_data = TrainData(torch.FloatTensor(X_train), \n",
    "                       torch.FloatTensor(y_train))\n",
    "## test data    \n",
    "class TestData(Dataset):\n",
    "    \n",
    "    def __init__(self, X_data):\n",
    "        self.X_data = X_data\n",
    "        \n",
    "    def __getitem__(self, index):\n",
    "        return self.X_data[index]\n",
    "        \n",
    "    def __len__ (self):\n",
    "        return len(self.X_data)\n",
    "    \n",
    "\n",
    "test_data = TestData(torch.FloatTensor(X_test))"
   ]
  },
  {
   "cell_type": "code",
   "execution_count": 12,
   "id": "2c4735ed-6fbd-4a6b-9f27-fdbca69d8135",
   "metadata": {},
   "outputs": [],
   "source": [
    "train_loader = DataLoader(dataset=train_data, batch_size=BATCH_SIZE, shuffle=True)\n",
    "test_loader = DataLoader(dataset=test_data, batch_size=BATCH_SIZE)"
   ]
  },
  {
   "cell_type": "markdown",
   "id": "6026342c-47ac-4820-8005-b9909a0290e0",
   "metadata": {},
   "source": [
    "### Define Neural Net Architecture"
   ]
  },
  {
   "cell_type": "code",
   "execution_count": 13,
   "id": "4974a9c7-38b6-480e-89c0-ba6dc1e2fef2",
   "metadata": {},
   "outputs": [],
   "source": [
    "class BinaryClassification(nn.Module):\n",
    "    def __init__(self):\n",
    "        super(BinaryClassification, self).__init__()\n",
    "        # Number of input features is 12.\n",
    "        self.layer_1 = nn.Linear(12, 64) \n",
    "        self.layer_2 = nn.Linear(64, 64)\n",
    "        self.layer_out = nn.Linear(64, 1) \n",
    "        \n",
    "        self.relu = nn.ReLU()\n",
    "        self.dropout = nn.Dropout(p=0.1)\n",
    "        self.batchnorm1 = nn.BatchNorm1d(64)\n",
    "        self.batchnorm2 = nn.BatchNorm1d(64)\n",
    "        \n",
    "    def forward(self, inputs):\n",
    "        x = self.relu(self.layer_1(inputs))\n",
    "        x = self.batchnorm1(x)\n",
    "        x = self.relu(self.layer_2(x))\n",
    "        x = self.batchnorm2(x)\n",
    "        x = self.dropout(x)\n",
    "        x = self.layer_out(x)\n",
    "        \n",
    "        return x"
   ]
  },
  {
   "cell_type": "code",
   "execution_count": 14,
   "id": "98ffa01a-6c54-453c-982f-c423e3c996f7",
   "metadata": {},
   "outputs": [
    {
     "name": "stdout",
     "output_type": "stream",
     "text": [
      "cpu\n"
     ]
    }
   ],
   "source": [
    "device = torch.device(\"cuda:0\" if torch.cuda.is_available() else \"cpu\")\n",
    "print(device)"
   ]
  },
  {
   "cell_type": "code",
   "execution_count": 15,
   "id": "371ceccb-255e-41d0-8ec0-4adaa60e4132",
   "metadata": {},
   "outputs": [
    {
     "name": "stdout",
     "output_type": "stream",
     "text": [
      "BinaryClassification(\n",
      "  (layer_1): Linear(in_features=12, out_features=64, bias=True)\n",
      "  (layer_2): Linear(in_features=64, out_features=64, bias=True)\n",
      "  (layer_out): Linear(in_features=64, out_features=1, bias=True)\n",
      "  (relu): ReLU()\n",
      "  (dropout): Dropout(p=0.1, inplace=False)\n",
      "  (batchnorm1): BatchNorm1d(64, eps=1e-05, momentum=0.1, affine=True, track_running_stats=True)\n",
      "  (batchnorm2): BatchNorm1d(64, eps=1e-05, momentum=0.1, affine=True, track_running_stats=True)\n",
      ")\n"
     ]
    }
   ],
   "source": [
    "# Initialize model\n",
    "model = BinaryClassification()\n",
    "model.to(device)\n",
    "print(model)\n",
    "criterion = nn.BCEWithLogitsLoss()\n",
    "optimizer = optim.Adam(model.parameters(), lr=LEARNING_RATE)"
   ]
  },
  {
   "cell_type": "markdown",
   "id": "54427151-dc4e-4e9e-9d4a-044592cb8e72",
   "metadata": {},
   "source": [
    "### Train the model"
   ]
  },
  {
   "cell_type": "code",
   "execution_count": 16,
   "id": "f0edc32d-31c5-4a98-9142-c166ddbb6633",
   "metadata": {},
   "outputs": [],
   "source": [
    "# Define accuracy\n",
    "def binary_acc(y_pred, y_test):\n",
    "    y_pred_tag = torch.round(torch.sigmoid(y_pred))\n",
    "\n",
    "    correct_results_sum = (y_pred_tag == y_test).sum().float()\n",
    "    acc = correct_results_sum/y_test.shape[0]\n",
    "    acc = torch.round(acc * 100)\n",
    "    \n",
    "    return acc"
   ]
  },
  {
   "cell_type": "code",
   "execution_count": 17,
   "id": "0c0927b8-767f-4c35-8433-d617bb910f20",
   "metadata": {},
   "outputs": [
    {
     "name": "stdout",
     "output_type": "stream",
     "text": [
      "Epoch 001: | Loss: 0.68188 | Acc: 55.750\n",
      "Epoch 002: | Loss: 0.59897 | Acc: 68.750\n",
      "Epoch 003: | Loss: 0.53819 | Acc: 77.750\n",
      "Epoch 004: | Loss: 0.49785 | Acc: 79.000\n",
      "Epoch 005: | Loss: 0.50548 | Acc: 74.000\n",
      "Epoch 006: | Loss: 0.42202 | Acc: 81.250\n",
      "Epoch 007: | Loss: 0.42260 | Acc: 82.500\n",
      "Epoch 008: | Loss: 0.41059 | Acc: 81.750\n",
      "Epoch 009: | Loss: 0.37895 | Acc: 85.000\n",
      "Epoch 010: | Loss: 0.37259 | Acc: 82.000\n",
      "Epoch 011: | Loss: 0.35850 | Acc: 85.250\n",
      "Epoch 012: | Loss: 0.36721 | Acc: 82.750\n",
      "Epoch 013: | Loss: 0.32531 | Acc: 88.500\n",
      "Epoch 014: | Loss: 0.33059 | Acc: 86.250\n",
      "Epoch 015: | Loss: 0.33885 | Acc: 85.250\n",
      "Epoch 016: | Loss: 0.31466 | Acc: 87.750\n",
      "Epoch 017: | Loss: 0.30169 | Acc: 90.000\n",
      "Epoch 018: | Loss: 0.26325 | Acc: 93.250\n",
      "Epoch 019: | Loss: 0.26841 | Acc: 92.750\n",
      "Epoch 020: | Loss: 0.23921 | Acc: 95.250\n",
      "Epoch 021: | Loss: 0.21219 | Acc: 94.500\n",
      "Epoch 022: | Loss: 0.23701 | Acc: 90.750\n",
      "Epoch 023: | Loss: 0.24457 | Acc: 91.500\n",
      "Epoch 024: | Loss: 0.19220 | Acc: 93.250\n",
      "Epoch 025: | Loss: 0.24492 | Acc: 91.000\n",
      "Epoch 026: | Loss: 0.19382 | Acc: 94.750\n",
      "Epoch 027: | Loss: 0.16641 | Acc: 96.250\n",
      "Epoch 028: | Loss: 0.22802 | Acc: 90.500\n",
      "Epoch 029: | Loss: 0.21863 | Acc: 91.750\n",
      "Epoch 030: | Loss: 0.13493 | Acc: 98.250\n",
      "Epoch 031: | Loss: 0.19111 | Acc: 94.000\n",
      "Epoch 032: | Loss: 0.15977 | Acc: 94.250\n",
      "Epoch 033: | Loss: 0.17140 | Acc: 95.250\n",
      "Epoch 034: | Loss: 0.12482 | Acc: 97.750\n",
      "Epoch 035: | Loss: 0.12347 | Acc: 98.250\n",
      "Epoch 036: | Loss: 0.14366 | Acc: 96.250\n",
      "Epoch 037: | Loss: 0.11977 | Acc: 98.750\n",
      "Epoch 038: | Loss: 0.14157 | Acc: 95.000\n",
      "Epoch 039: | Loss: 0.25894 | Acc: 87.500\n",
      "Epoch 040: | Loss: 0.10128 | Acc: 98.000\n",
      "Epoch 041: | Loss: 0.10988 | Acc: 98.250\n",
      "Epoch 042: | Loss: 0.09376 | Acc: 98.750\n",
      "Epoch 043: | Loss: 0.12257 | Acc: 95.250\n",
      "Epoch 044: | Loss: 0.09970 | Acc: 98.250\n",
      "Epoch 045: | Loss: 0.09677 | Acc: 98.250\n",
      "Epoch 046: | Loss: 0.10558 | Acc: 97.750\n",
      "Epoch 047: | Loss: 0.09979 | Acc: 97.000\n",
      "Epoch 048: | Loss: 0.09448 | Acc: 95.500\n",
      "Epoch 049: | Loss: 0.09151 | Acc: 97.000\n",
      "Epoch 050: | Loss: 0.06158 | Acc: 99.000\n"
     ]
    }
   ],
   "source": [
    "model.train()\n",
    "for e in range(1, EPOCHS+1):\n",
    "    epoch_loss = 0\n",
    "    epoch_acc = 0\n",
    "    for X_batch, y_batch in train_loader:\n",
    "        X_batch, y_batch = X_batch.to(device), y_batch.to(device)\n",
    "        optimizer.zero_grad()\n",
    "        \n",
    "        y_pred = model(X_batch)\n",
    "        \n",
    "        loss = criterion(y_pred, y_batch.unsqueeze(1))\n",
    "        acc = binary_acc(y_pred, y_batch.unsqueeze(1))\n",
    "        \n",
    "        loss.backward()\n",
    "        optimizer.step()\n",
    "        \n",
    "        epoch_loss += loss.item()\n",
    "        epoch_acc += acc.item()\n",
    "        \n",
    "\n",
    "    print(f'Epoch {e+0:03}: | Loss: {epoch_loss/len(train_loader):.5f} | Acc: {epoch_acc/len(train_loader):.3f}')"
   ]
  },
  {
   "cell_type": "markdown",
   "id": "17a01350-40f4-4d8e-9eed-395092ae95f6",
   "metadata": {},
   "source": [
    "### Test the model"
   ]
  },
  {
   "cell_type": "code",
   "execution_count": 73,
   "id": "f91c76a0-91d6-4a28-bcd9-b578e3e65a47",
   "metadata": {},
   "outputs": [],
   "source": [
    "y_pred_list = []\n",
    "model.eval()\n",
    "with torch.no_grad():\n",
    "    for X_batch in test_loader:\n",
    "        X_batch = X_batch.to(device)\n",
    "        y_test_pred = model(X_batch)\n",
    "        y_test_pred = torch.sigmoid(y_test_pred)\n",
    "        y_pred_tag = torch.round(y_test_pred)\n",
    "        y_pred_list.append(y_pred_tag.cpu().numpy())\n",
    "\n",
    "y_pred_list = [a.squeeze().tolist() for a in y_pred_list]"
   ]
  },
  {
   "cell_type": "code",
   "execution_count": 41,
   "id": "b52dfe5f-b19e-44ba-860b-2ec6b357b265",
   "metadata": {},
   "outputs": [
    {
     "name": "stdout",
     "output_type": "stream",
     "text": [
      "0\n",
      "torch.Size([64, 12])\n",
      "1\n",
      "torch.Size([39, 12])\n"
     ]
    }
   ],
   "source": [
    "y_pred_list = []\n",
    "model.eval()\n",
    "with torch.no_grad():\n",
    "    i=0\n",
    "    for X_batch in test_loader:\n",
    "        print(i)\n",
    "        print(X_batch.shape)\n",
    "        i+=1\n",
    "        X_batch = X_batch.to(device)\n",
    "        y_test_pred = model(X_batch)\n",
    "        y_test_pred = torch.sigmoid(y_test_pred)\n",
    "        y_pred_tag = torch.round(y_test_pred)\n",
    "        y_pred_list.append(y_pred_tag.cpu().numpy())\n",
    "\n",
    "# y_pred_list = [a.squeeze().tolist() for a in y_pred_list]\n",
    "y_pred_list = np.concatenate(y_pred_list).squeeze().tolist()"
   ]
  },
  {
   "cell_type": "code",
   "execution_count": 46,
   "id": "817d3091-ff85-4bfd-9d91-75dbb34e9569",
   "metadata": {},
   "outputs": [
    {
     "data": {
      "text/plain": [
       "array([[20, 11],\n",
       "       [11, 61]])"
      ]
     },
     "execution_count": 46,
     "metadata": {},
     "output_type": "execute_result"
    }
   ],
   "source": [
    "confusion_matrix(y_test, y_pred_list)"
   ]
  },
  {
   "cell_type": "code",
   "execution_count": 45,
   "id": "e67abd84-8c60-41af-8b96-d4bdf9e36eee",
   "metadata": {},
   "outputs": [
    {
     "name": "stdout",
     "output_type": "stream",
     "text": [
      "              precision    recall  f1-score   support\n",
      "\n",
      "           0       0.65      0.65      0.65        31\n",
      "           1       0.85      0.85      0.85        72\n",
      "\n",
      "    accuracy                           0.79       103\n",
      "   macro avg       0.75      0.75      0.75       103\n",
      "weighted avg       0.79      0.79      0.79       103\n",
      "\n"
     ]
    }
   ],
   "source": [
    "print(classification_report(y_test, y_pred_list))"
   ]
  },
  {
   "cell_type": "code",
   "execution_count": null,
   "id": "ec340f0c-68d2-4c6d-9b59-9bd23ac0423b",
   "metadata": {},
   "outputs": [],
   "source": []
  },
  {
   "cell_type": "code",
   "execution_count": null,
   "id": "5aa4971f-7ee0-4ccd-800b-21cc9f8e2b7a",
   "metadata": {},
   "outputs": [],
   "source": []
  },
  {
   "cell_type": "markdown",
   "id": "d1c33ade-dfc7-4d0e-a6df-0c61bd7558e8",
   "metadata": {},
   "source": [
    "# Notes\n",
    "\n",
    "- CV uses DataLoader to iterate over training data, while JN uses the the whole training set every training loop.\n",
    "- Double check PyTorch Dataset and DataLoader\n",
    "- ReLU, BatchNorm, Dropout (AV)\n",
    "- Backpropagation pass: loss.backward() and optimizer.step()\n",
    "- AV: To tell PyTorch that we do not want to perform back-propagation during inference, we use torch.no_grad() which reduces memory usage and speeds up computation. While JN uses torch.inference_mode()."
   ]
  },
  {
   "cell_type": "code",
   "execution_count": null,
   "id": "9591b675-4396-4e1a-be22-f21dc24a89f4",
   "metadata": {},
   "outputs": [],
   "source": []
  },
  {
   "cell_type": "code",
   "execution_count": null,
   "id": "0b28b73f-77a2-4fe8-a979-0b692184573e",
   "metadata": {},
   "outputs": [],
   "source": []
  },
  {
   "cell_type": "markdown",
   "id": "516d1166-88ff-40ab-bf73-ff5955acf516",
   "metadata": {},
   "source": [
    "# MLP for fraud"
   ]
  },
  {
   "cell_type": "code",
   "execution_count": 1,
   "id": "25ffebd5-fc06-458e-ab95-bbe21dd9c902",
   "metadata": {},
   "outputs": [],
   "source": [
    "# General\n",
    "import pandas as pd\n",
    "import matplotlib.pyplot as plt\n",
    "import numpy as np\n",
    "import typing\n",
    "from typing import Union, Tuple, Dict, List\n",
    "\n",
    "# PyTorch\n",
    "import torch\n",
    "import torch.nn as nn\n",
    "from torch.utils.data import Dataset, DataLoader\n",
    "from torcheval.metrics.classification import BinaryRecall, BinaryPrecision, BinaryF1Score, BinaryAccuracy\n",
    "\n",
    "# Preprocess model\n",
    "from sklearn.model_selection import train_test_split\n",
    "from sklearn.preprocessing import OneHotEncoder, StandardScaler\n",
    "from category_encoders import TargetEncoder, CountEncoder\n",
    "from statsmodels.stats.outliers_influence import variance_inflation_factor\n",
    "from imblearn.over_sampling import SMOTE, SMOTENC\n",
    "from imblearn.under_sampling import RandomUnderSampler\n",
    "\n",
    "# Model performance metrics\n",
    "from sklearn.metrics import (\n",
    "         recall_score, precision_score,f1_score, \n",
    "         precision_recall_curve, roc_auc_score, roc_curve,\n",
    ")"
   ]
  },
  {
   "cell_type": "markdown",
   "id": "7bd9537c-df0c-466c-8595-bef5d6e0c891",
   "metadata": {},
   "source": [
    "## Load data"
   ]
  },
  {
   "cell_type": "code",
   "execution_count": 2,
   "id": "e6dca038-4874-4804-9ede-730b8c1e3da7",
   "metadata": {},
   "outputs": [],
   "source": [
    "PATH = '~/mrm_fraud/datasets/TabFormer/'"
   ]
  },
  {
   "cell_type": "code",
   "execution_count": 3,
   "id": "2c04f45c-ce32-4e21-9c7e-dd42ae5b1c17",
   "metadata": {},
   "outputs": [],
   "source": [
    "def loadTabFormer(path, year=[]):\n",
    "    # Load data\n",
    "    df = pd.concat([pd.read_csv(path+'card_transaction.v1-'+str(y)+'.csv') for y in year])\n",
    "    df.reset_index(drop=True, inplace=True)\n",
    "    df.sort_values(by='transactionTime', inplace=True)\n",
    "    # Convert variables\n",
    "    df.transactionTime = pd.to_datetime(df.transactionTime)\n",
    "    df.MerchantName = df.MerchantName.astype(str)\n",
    "    df.MCC = df.MCC.astype(str)\n",
    "    df.UseChip = df.UseChip.astype(str)\n",
    "    df.Zip = df.Zip.astype(int).astype(str)\n",
    "    \n",
    "    return df"
   ]
  },
  {
   "cell_type": "code",
   "execution_count": 4,
   "id": "8f58261d-99d5-4626-986d-00ca53fb770d",
   "metadata": {},
   "outputs": [],
   "source": [
    "def fraud_summary(data: pd.DataFrame,\n",
    "                  tw: str=None, \n",
    "                  trxTime_col: str=None, \n",
    "                  trxAmount_col: str=None, \n",
    "                  isFraud_col: set=None) -> pd.DataFrame:\n",
    "    summary = data.groupby(pd.Grouper(key=trxTime_col, freq=tw)).agg(\n",
    "        total_transactions=(trxAmount_col, \"count\"),\n",
    "        total_fraud_cases=(isFraud_col, \"sum\"),\n",
    "        total_fraud_value=(trxAmount_col, lambda x: x[x.index.isin(df.loc[df[isFraud_col] == 1].index)].sum()),\n",
    "        total_transaction_value=(trxAmount_col, \"sum\"),\n",
    "    )#.set_index(trxTime_col)\n",
    "    return summary"
   ]
  },
  {
   "cell_type": "code",
   "execution_count": 5,
   "id": "f3a817da-165f-499d-bf61-bbb4485f06da",
   "metadata": {},
   "outputs": [],
   "source": [
    "def plot_fraud(df_fraud_summary: pd.DataFrame):\n",
    "\n",
    "    axis_label_fs = 9\n",
    "    axis_tick_fs = 8\n",
    "    legend_fs = 8\n",
    "    title_fs = 9\n",
    "    \n",
    "    fig, ax = plt.subplots(3, 1, figsize=(8, 6), sharex=True)\n",
    "\n",
    "    # Variables\n",
    "    x = df_fraud_summary.index\n",
    "    fraud_cases = df_fraud_summary.total_fraud_cases\n",
    "    fraud_value = df_fraud_summary.total_fraud_value\n",
    "    num_trx = df_fraud_summary.total_transactions\n",
    "    trx_val = df_fraud_summary.total_transaction_value\n",
    "    \n",
    "    # Number and value of fraud\n",
    "    ax[0].bar(x, fraud_cases, width=20, label='Fraud cases')\n",
    "    ax01 = ax[0].twinx()\n",
    "    ax01.plot(x, fraud_value/1e3, c='tab:red', marker='o', label='Fraud value')\n",
    "    \n",
    "    # Class imbalance\n",
    "    fraud_imb = 100*fraud_cases/num_trx\n",
    "    ax[1].plot(x, fraud_imb, color='k')\n",
    "    \n",
    "    # Total number of transactions\n",
    "    ax[2].bar(x, num_trx/1e3, width=20, color='C2')\n",
    "    \n",
    "    \n",
    "    # Formatting\n",
    "    \n",
    "    ax[0].set_ylabel('No. of fraud', fontsize=axis_label_fs)\n",
    "    ax[0].legend(loc='upper left', bbox_to_anchor=(0.01, 0.99), fontsize=legend_fs)\n",
    "    ax[0].set_title('(a)', fontsize=title_fs, loc='left')\n",
    "    ax01.set_ylabel('Fraud value '+r'$(\\times 10^3 \\$)$', fontsize=axis_label_fs)\n",
    "    ax01.legend(loc='upper left', bbox_to_anchor=(0.01, 0.83), fontsize=legend_fs)\n",
    "    \n",
    "    ax[1].grid(axis='both')\n",
    "    ax[1].set_title('(b)', loc='left', fontsize=title_fs)\n",
    "    ax[1].set_ylabel('Class imbalance (%)', fontsize=axis_label_fs)\n",
    "    \n",
    "    ax[2].set_ylabel('No. of transactions '+r'$(\\times 10^3)$', fontsize=axis_label_fs)\n",
    "    ax[2].set_title('(c)', loc='left', fontsize=title_fs)\n",
    "    ax[2].set_xlabel('Time', fontsize=axis_label_fs)\n",
    "    \n",
    "    \n",
    "    ax[0].set_xticks(x, x, rotation=90, fontsize=axis_tick_fs)\n",
    "    # ax01.set_yticks(np.arange(7), np.arange(7))\n",
    "    ax[1].set_xticks(x, x, rotation=90, fontsize=axis_tick_fs)\n",
    "    # if tw == 'week':\n",
    "    #     xindex = x.index.date\n",
    "    #     [x.index.date if tw=='week' else x.index]\n",
    "    ax[2].set_xticks(x.date, x.date, rotation=90, fontsize=axis_tick_fs)\n",
    "    \n",
    "    ax[0].tick_params(labelsize=axis_tick_fs)\n",
    "    ax01.tick_params(labelsize=axis_tick_fs)\n",
    "    ax[1].tick_params(labelsize=axis_tick_fs)\n",
    "    ax[2].tick_params(labelsize=axis_tick_fs)\n",
    "    \n",
    "    # xlim=[1996, 2019]\n",
    "    # ax[0].set_xlim(xlim)\n",
    "    # ax[0].set_xlim(xlim)\n",
    "    \n",
    "    plt.subplots_adjust(hspace=0.3)\n",
    "    # plt.savefig(fig_folder+'TabFormer_dataset.png', bbox_inches='tight', dpi=300)\n",
    "    plt.show()"
   ]
  },
  {
   "cell_type": "code",
   "execution_count": 6,
   "id": "3f323544-e96a-4b16-93f8-08e87229e467",
   "metadata": {},
   "outputs": [
    {
     "name": "stdout",
     "output_type": "stream",
     "text": [
      "CPU times: user 1.88 s, sys: 212 ms, total: 2.09 s\n",
      "Wall time: 2.12 s\n"
     ]
    }
   ],
   "source": [
    "%%time\n",
    "df = loadTabFormer(PATH, year=[2008])"
   ]
  },
  {
   "cell_type": "code",
   "execution_count": 7,
   "id": "ff1a41a8-f2df-4776-9064-c5bb20b62a7d",
   "metadata": {},
   "outputs": [
    {
     "data": {
      "image/png": "[encoded data removed]",
      "text/plain": [
       "<Figure size 800x600 with 4 Axes>"
      ]
     },
     "metadata": {},
     "output_type": "display_data"
    }
   ],
   "source": [
    "df_fraud_summary = fraud_summary(df, \n",
    "                                 tw='1MS', \n",
    "                                 trxTime_col='transactionTime', \n",
    "                                 trxAmount_col='Amount', \n",
    "                                 isFraud_col='isFraud')    \n",
    "plot_fraud(df_fraud_summary)"
   ]
  },
  {
   "cell_type": "markdown",
   "id": "05942e6f-bb18-458c-93bc-6e994cb96399",
   "metadata": {},
   "source": [
    "## Define features"
   ]
  },
  {
   "cell_type": "code",
   "execution_count": 7,
   "id": "80db400b-232f-491e-b7d9-57f5a29799b1",
   "metadata": {},
   "outputs": [],
   "source": [
    "# --- Predictors\n",
    "\n",
    "# Numerical variables\n",
    "numerical_vars = ['Amount']\n",
    "# Frequency encoding variables\n",
    "freq_enc_vars = ['hour']\n",
    "# Target encoding variables\n",
    "target_enc_vars = ['MerchantName', 'MerchantCity',  'MerchantState', 'Zip', 'MCC', 'Error']\n",
    "# One-hot encoding variables\n",
    "onehot_enc_vars = ['weekday', 'UseChip']\n",
    "# Categorical variables\n",
    "cat_vars = freq_enc_vars+target_enc_vars+onehot_enc_vars\n",
    "# List of all predictors\n",
    "var_cols = numerical_vars+freq_enc_vars+target_enc_vars+onehot_enc_vars"
   ]
  },
  {
   "cell_type": "markdown",
   "id": "bfb68cdc-f780-4705-a73b-62d507afdd41",
   "metadata": {},
   "source": [
    "## Preprocessing"
   ]
  },
  {
   "cell_type": "code",
   "execution_count": 8,
   "id": "fbe2499c-d314-49f1-afed-c3da6cad10fc",
   "metadata": {},
   "outputs": [],
   "source": [
    "# --- Encoding/Scaling ---\n",
    "def onehot_transform(df, ohe_vars):\n",
    "    ''' One-hot encoder. '''\n",
    "    # Define one-hot encoder\n",
    "    onehot_encoder = OneHotEncoder(sparse_output=False)\n",
    "    \n",
    "    # Fit-transform variables\n",
    "    df_onehot = pd.DataFrame(onehot_encoder.fit_transform(df[ohe_vars].astype('str')))\n",
    "    df_onehot.columns = onehot_encoder.get_feature_names_out()\n",
    "    df_onehot.index = df.index\n",
    "    \n",
    "    # Remove original categorical variables\n",
    "    df.drop(ohe_vars, axis=1, inplace=True)\n",
    "    \n",
    "    # Concatenate data set with one-hot columns\n",
    "    df = pd.concat([df, df_onehot], axis=1)\n",
    "    return df\n",
    "def encode_scale_data(X_train, X_test, y_train, numerical_vars, target_enc_vars, freq_enc_vars, onehot_enc_vars):\n",
    "    ''' Encode and scale data. '''\n",
    "    pd.set_option('future.no_silent_downcasting', True)\n",
    "    \n",
    "    # Target encoding\n",
    "    if target_enc_vars:\n",
    "        target_encoder = TargetEncoder(cols=target_enc_vars)\n",
    "        X_train = target_encoder.fit_transform(X_train, y_train)\n",
    "        X_test = target_encoder.transform(X_test)\n",
    "    \n",
    "    # Frequency encoding\n",
    "    if freq_enc_vars:\n",
    "        freq_encoder = CountEncoder(cols=freq_enc_vars)\n",
    "        X_train = freq_encoder.fit_transform(X_train, y_train)\n",
    "        X_test = freq_encoder.transform(X_test)\n",
    "    \n",
    "    # Scaling\n",
    "    if numerical_vars:\n",
    "        scaler = StandardScaler(with_mean=True, with_std=True).set_output(transform=\"pandas\")\n",
    "        scale_cols = numerical_vars+freq_enc_vars+target_enc_vars\n",
    "        scaler.fit(X_train[scale_cols])\n",
    "        X_train = pd.concat([X_train.drop(scale_cols, axis=1), scaler.transform(X_train[scale_cols])], axis=1)\n",
    "        X_test = pd.concat([X_test.drop(scale_cols, axis=1), scaler.transform(X_test[scale_cols])], axis=1)\n",
    "    \n",
    "    # One-hot encoding\n",
    "    if onehot_enc_vars:\n",
    "        X_train = onehot_transform(X_train, onehot_enc_vars)\n",
    "        X_test = onehot_transform(X_test, onehot_enc_vars)\n",
    "\n",
    "    return X_train, X_test"
   ]
  },
  {
   "cell_type": "code",
   "execution_count": 9,
   "id": "1143ee44-7e9e-47ae-abbf-409a6d14f778",
   "metadata": {},
   "outputs": [],
   "source": [
    "# Class imbalance\n",
    "def class_imbalance(X_train, y_train, \n",
    "                    over_sample=True,\n",
    "                    over_sample_ratio='auto',\n",
    "                    under_sample=True, \n",
    "                    under_sample_ratio='auto', \n",
    "                    geo_vars=None, \n",
    "                    cat_vars=None):\n",
    "    \n",
    "    # Undersample\n",
    "    if under_sample:\n",
    "        # Random Under Sampler\n",
    "        undersampler = RandomUnderSampler(sampling_strategy=under_sample_ratio, random_state=1)\n",
    "        X_train, y_train = undersampler.fit_resample(X_train, y_train)\n",
    "\n",
    "    # Oversample\n",
    "    if over_sample:\n",
    "        # Combine geographical features\n",
    "        X_train = combine_geography(X_train, geo_vars=geo_vars)\n",
    "    \n",
    "        # SMOTENC\n",
    "        categorical_features = [v for v in cat_vars if v not in geo_vars]+['_'.join(geo_vars)]\n",
    "        smotenc = SMOTENC(categorical_features=categorical_features, random_state=1)\n",
    "        X_train, y_train = smotenc.fit_resample(X_train, y_train)\n",
    "    \n",
    "        # Split geographical features\n",
    "        X_train = split_geography(X_train, geo_vars=geo_vars)\n",
    "\n",
    "    return X_train.sort_index(), y_train.sort_index()"
   ]
  },
  {
   "cell_type": "code",
   "execution_count": 10,
   "id": "0461f0be-ef2f-4598-aaab-0a73fa05e7ce",
   "metadata": {},
   "outputs": [],
   "source": [
    "# Split data into Train/Test sets\n",
    "X, y = df[var_cols], df['isFraud']\n",
    "X_train, X_test, y_train, y_test = train_test_split(X, y, test_size=0.2, shuffle=False)"
   ]
  },
  {
   "cell_type": "code",
   "execution_count": 11,
   "id": "6b81093a-2fab-43d9-b513-ee4fcad9e961",
   "metadata": {},
   "outputs": [
    {
     "data": {
      "text/plain": [
       "0.002880151373972177"
      ]
     },
     "execution_count": 11,
     "metadata": {},
     "output_type": "execute_result"
    }
   ],
   "source": [
    "y_train.sum()/len(y_train)"
   ]
  },
  {
   "cell_type": "code",
   "execution_count": 12,
   "id": "a08272ad-b098-4e8e-8891-e6b39253f203",
   "metadata": {},
   "outputs": [
    {
     "name": "stdout",
     "output_type": "stream",
     "text": [
      "CPU times: user 129 ms, sys: 23.1 ms, total: 152 ms\n",
      "Wall time: 150 ms\n"
     ]
    }
   ],
   "source": [
    "%%time\n",
    "# Class imbalance\n",
    "X_train, y_train = class_imbalance(X_train, y_train, \n",
    "                                   under_sample=True,\n",
    "                                   under_sample_ratio=0.1,#'not minority', \n",
    "                                   over_sample=False,\n",
    "                                  )"
   ]
  },
  {
   "cell_type": "code",
   "execution_count": 13,
   "id": "dceb83e8-eb73-431f-b845-06c1c808289d",
   "metadata": {},
   "outputs": [
    {
     "data": {
      "text/plain": [
       "0.09090909090909091"
      ]
     },
     "execution_count": 13,
     "metadata": {},
     "output_type": "execute_result"
    }
   ],
   "source": [
    "y_train.sum()/len(y_train)"
   ]
  },
  {
   "cell_type": "code",
   "execution_count": 14,
   "id": "ca0c640f-9690-4413-9ed2-7a020384081d",
   "metadata": {},
   "outputs": [
    {
     "name": "stdout",
     "output_type": "stream",
     "text": [
      "CPU times: user 444 ms, sys: 58.2 ms, total: 502 ms\n",
      "Wall time: 506 ms\n"
     ]
    }
   ],
   "source": [
    "%%time\n",
    "# Encode and scale data\n",
    "X_train, X_test = encode_scale_data(X_train, X_test, y_train, numerical_vars, target_enc_vars, freq_enc_vars, onehot_enc_vars)"
   ]
  },
  {
   "cell_type": "markdown",
   "id": "27942725-ac18-4312-9263-4d9853f86081",
   "metadata": {},
   "source": [
    "## Model Parameters"
   ]
  },
  {
   "cell_type": "code",
   "execution_count": 22,
   "id": "69acb9b0-a216-4ded-a7b9-ed8885ba57cf",
   "metadata": {},
   "outputs": [],
   "source": [
    "EPOCHS = 10\n",
    "BATCH_SIZE = 64\n",
    "LEARNING_RATE = 0.001\n",
    "TOL = 1e-4\n",
    "N_CONSEC_ITER = 10"
   ]
  },
  {
   "cell_type": "markdown",
   "id": "bfd9f581-9815-47fd-8af0-0edc1e63e909",
   "metadata": {},
   "source": [
    "## Define Custom Dataloaders"
   ]
  },
  {
   "cell_type": "code",
   "execution_count": 16,
   "id": "b9d7a16f-78f0-4e09-8880-769c15a740f9",
   "metadata": {},
   "outputs": [],
   "source": [
    "## train data\n",
    "class TrainData(Dataset):\n",
    "    \n",
    "    def __init__(self, X, y):\n",
    "        self.X = X\n",
    "        self.y = y\n",
    "        \n",
    "    def __getitem__(self, index):\n",
    "        return self.X[index], self.y[index]\n",
    "        \n",
    "    def __len__ (self):\n",
    "        return len(self.X)\n",
    "\n",
    "## test data    \n",
    "class TestData(Dataset):\n",
    "    \n",
    "    def __init__(self, X):\n",
    "        self.X = X\n",
    "        \n",
    "    def __getitem__(self, index):\n",
    "        return self.X[index]\n",
    "        \n",
    "    def __len__ (self):\n",
    "        return len(self.X)"
   ]
  },
  {
   "cell_type": "code",
   "execution_count": 59,
   "id": "f0aa46b9-64ed-4715-ae6c-efa52c80e96c",
   "metadata": {},
   "outputs": [],
   "source": [
    "train_data = TrainData(torch.tensor(X_train.values, dtype=torch.float32), \n",
    "                       torch.tensor(y_train.values, dtype=torch.float32))\n",
    "test_data = TestData(torch.tensor(X_test.values, dtype=torch.float32))\n",
    "\n",
    "train_loader = DataLoader(dataset=train_data, batch_size=BATCH_SIZE, shuffle=False)\n",
    "test_loader = DataLoader(dataset=test_data, batch_size=BATCH_SIZE, shuffle=False)"
   ]
  },
  {
   "cell_type": "markdown",
   "id": "70c74fb7-e390-4a13-89f4-324b632e004c",
   "metadata": {},
   "source": [
    "## Define Neural Net Architecture"
   ]
  },
  {
   "cell_type": "code",
   "execution_count": 168,
   "id": "51e293d8-7cf0-46c0-b252-1e908977147d",
   "metadata": {},
   "outputs": [],
   "source": [
    "class BinaryMLP(nn.Module):\n",
    "    def __init__(self, \n",
    "                 input_size: int,\n",
    "                 layer1_size: int=None,\n",
    "                 layer2_size: int=None,\n",
    "                 layer3_size: int=None,\n",
    "                 learning_rate: float=1e-3,\n",
    "                 max_epochs: int=200,\n",
    "                 tol: float=1e-4,\n",
    "                 n_consec_iter: int=10,\n",
    "                 verbose: bool=True,\n",
    "                ) -> None:\n",
    "        super().__init__()\n",
    "        # Training parameters\n",
    "        self.input_size = input_size\n",
    "        self.layer1_size = layer1_size\n",
    "        if self.layer1_size == None:\n",
    "            self.layer1_size = int(2**np.ceil(np.log2(self.input_size)))\n",
    "        self.layer2_size = layer2_size\n",
    "        if self.layer2_size == None:\n",
    "            self.layer2_size = int(self.layer1_size/2)\n",
    "        self.layer3_size = layer3_size\n",
    "        if self.layer3_size == None:\n",
    "            self.layer3_size = int(self.layer2_size/2)\n",
    "        self.learning_rate = learning_rate\n",
    "        self.max_epochs = max_epochs\n",
    "        self.tol = tol\n",
    "        self.n_consec_iter = n_consec_iter\n",
    "        self.verbose = verbose\n",
    "\n",
    "        # Layers\n",
    "        self.layer1 = nn.Linear(self.input_size, self.layer1_size)\n",
    "        self.layer2 = nn.Linear(self.layer1_size, self.layer2_size)\n",
    "        self.layer3 = nn.Linear(self.layer2_size, self.layer3_size)\n",
    "        self.layer_out = nn.Linear(self.layer3_size, 1)\n",
    "        # Activation, Dropout, and Batch Normalisation\n",
    "        self.relu = nn.ReLU()\n",
    "        self.dropout = nn.Dropout(p=0.2)\n",
    "        self.batchnorm1 = nn.BatchNorm1d(self.layer1_size)\n",
    "        self.batchnorm2 = nn.BatchNorm1d(self.layer2_size)\n",
    "        self.batchnorm3 = nn.BatchNorm1d(self.layer3_size)\n",
    "\n",
    "    def forward(self, x):\n",
    "        # Layer 1\n",
    "        x = self.relu(self.layer1(x))\n",
    "        x = self.batchnorm1(x)\n",
    "        x = self.dropout(x)\n",
    "        # Layer 2\n",
    "        x = self.relu(self.layer2(x))\n",
    "        x = self.batchnorm2(x)\n",
    "        x = self.dropout(x)\n",
    "        # Layer 3\n",
    "        x = self.relu(self.layer3(x))\n",
    "        x = self.batchnorm3(x)\n",
    "        x = self.dropout(x)\n",
    "        # Output layer\n",
    "        x = self.layer_out(x)\n",
    "\n",
    "        return x\n",
    "\n",
    "    def fit(self, train_loader: DataLoader):\n",
    "        # Send model to device\n",
    "        device = torch.device(\"cuda:0\" if torch.cuda.is_available() else \"cpu\")\n",
    "        self.to(device)\n",
    "        \n",
    "        # Loss and Optimizer\n",
    "        loss_function = nn.BCEWithLogitsLoss()\n",
    "        optimizer = torch.optim.Adam(self.parameters(), lr=self.learning_rate)\n",
    "        \n",
    "        # Stop criterion variables\n",
    "        avg_loss_old, count_iter = float('inf'), 0\n",
    "\n",
    "        # Initialize metrics\n",
    "        recall = BinaryRecall().to(device)\n",
    "        precision = BinaryPrecision().to(device)\n",
    "        f1 = BinaryF1Score().to(device)\n",
    "        accuracy = BinaryAccuracy().to(device)\n",
    "\n",
    "        # Training loop\n",
    "        self.train()\n",
    "        for e in range(1, self.max_epochs+1):\n",
    "            epoch_loss = 0\n",
    "            \n",
    "            # Reset epoch loss and metrics\n",
    "            recall.reset()\n",
    "            precision.reset()\n",
    "            f1.reset()\n",
    "            accuracy.reset()\n",
    "        \n",
    "            for X_batch, y_batch in train_loader:\n",
    "                # Send data to device\n",
    "                X_batch, y_batch = X_batch.to(device), y_batch.to(device)\n",
    "                \n",
    "                # Zero the gradients\n",
    "                optimizer.zero_grad()\n",
    "                \n",
    "                # Forward pass\n",
    "                y_logit = self(X_batch)\n",
    "                y_pred_prob = torch.sigmoid(y_logit)\n",
    "                y_pred = torch.round(y_pred_prob)\n",
    "\n",
    "                # Compute loss\n",
    "                loss = loss_function(y_logit, y_batch.unsqueeze(1))\n",
    "                epoch_loss += loss.item()\n",
    "                \n",
    "                # Backward pass and optimization\n",
    "                loss.backward()\n",
    "                optimizer.step()\n",
    "                \n",
    "                # Compute metrics\n",
    "                recall.update(y_pred_prob.squeeze(), y_batch.int())\n",
    "                precision.update(y_pred_prob.squeeze(), y_batch.int())\n",
    "                f1.update(y_pred_prob.squeeze(), y_batch.int())\n",
    "                accuracy.update(y_pred_prob.squeeze(), y_batch.int())\n",
    "\n",
    "            avg_loss = epoch_loss / len(train_loader)\n",
    "            \n",
    "            # Print progress first, last, and ten times\n",
    "            if self.verbose:\n",
    "                if e % int(self.max_epochs/10) == 0 or e == 1 or e == self.max_epochs:\n",
    "                    print(f'Epoch {e+0:03}: |',\n",
    "                          f'Loss: {avg_loss:.5f} |',\n",
    "                          f'Accuracy: {accuracy.compute().item():.3f} |',\n",
    "                          f'Recall: {recall.compute().item():.3f} |',\n",
    "                          f'Precision: {precision.compute().item():.3f} |',\n",
    "                          f'F1: {f1.compute().item():.3f}')\n",
    "        \n",
    "            # Stop criterion\n",
    "            if abs(avg_loss - avg_loss_old) <= self.tol:\n",
    "                count_iter += 1\n",
    "                print(f'Current Epoch: {e} |',\n",
    "                      f'Loss change: {abs(loss.item() - avg_loss_old):.1e} |',\n",
    "                      f'Consecutive stop iterations: {count_iter}')\n",
    "                if count_iter == self.n_consec_iter:\n",
    "                    print('Early stop criterion reached.')\n",
    "                    break\n",
    "            else:\n",
    "                count_iter = 0\n",
    "            avg_loss_old = avg_loss\n",
    "        print(f'Epoch {e+0:03}: |',\n",
    "              f'Loss: {avg_loss:.5f} |',\n",
    "              f'Accuracy: {accuracy.compute().item():.3f} |',\n",
    "              f'Recall: {recall.compute().item():.3f} |',\n",
    "              f'Precision: {precision.compute().item():.3f} |',\n",
    "              f'F1: {f1.compute().item():.3f}')\n",
    "        \n",
    "    def predict_proba(self, test_loader: DataLoader):\n",
    "        device = torch.device(\"cuda:0\" if torch.cuda.is_available() else \"cpu\")\n",
    "        self.to(device)\n",
    "        y_pred_prob_list = []\n",
    "        self.eval()\n",
    "        with torch.no_grad():\n",
    "            for X_batch in test_loader:\n",
    "                # Send data to device\n",
    "                X_batch = X_batch.to(device)\n",
    "        \n",
    "                # Forward pass\n",
    "                y_logit = model(X_batch)\n",
    "                y_pred_prob_list.append(torch.sigmoid(y_logit))\n",
    "        \n",
    "        return torch.cat(y_pred_prob_list, dim=0).squeeze().detach().numpy()\n",
    "        \n",
    "    def predict(self, test_loader: DataLoader):\n",
    "        y_pred_prob = self.predict_proba(test_loader)\n",
    "        return (y_pred_prob >= 0.5).astype(int)"
   ]
  },
  {
   "cell_type": "code",
   "execution_count": 37,
   "id": "2a22cc60-3cca-43b7-8900-66aa6fb39dad",
   "metadata": {},
   "outputs": [],
   "source": [
    "class SimpleFraudMLP(nn.Module):\n",
    "    def __init__(self, input_size: str, learning_rate: float=0.001) -> None:\n",
    "        super().__init__()\n",
    "        # Layers\n",
    "        self.layer1 = nn.Linear(input_size, 64)\n",
    "        self.layer2 = nn.Linear(64, 32)\n",
    "        self.layer3 = nn.Linear(32, 16)\n",
    "        self.layer_out = nn.Linear(16, 1)\n",
    "        # Activation, Dropout, and Batch Normalisation\n",
    "        self.relu = nn.ReLU()\n",
    "        self.dropout = nn.Dropout(p=0.2)\n",
    "        self.batchnorm1 = nn.BatchNorm1d(64)\n",
    "        self.batchnorm2 = nn.BatchNorm1d(32)\n",
    "        self.batchnorm3 = nn.BatchNorm1d(16)\n",
    "\n",
    "    def forward(self, x):\n",
    "        # Layer 1\n",
    "        x = self.relu(self.layer1(x))\n",
    "        x = self.batchnorm1(x)\n",
    "        x = self.dropout(x)\n",
    "        # Layer 2\n",
    "        x = self.relu(self.layer2(x))\n",
    "        x = self.batchnorm2(x)\n",
    "        x = self.dropout(x)\n",
    "        # Layer 3\n",
    "        x = self.relu(self.layer3(x))\n",
    "        x = self.batchnorm3(x)\n",
    "        x = self.dropout(x)\n",
    "        # Output layer\n",
    "        x = self.layer_out(x)\n",
    "\n",
    "        return x"
   ]
  },
  {
   "cell_type": "code",
   "execution_count": 38,
   "id": "945599c9-dfae-4cfa-af63-01a7c0918246",
   "metadata": {},
   "outputs": [
    {
     "name": "stdout",
     "output_type": "stream",
     "text": [
      "Device: cpu\n",
      "FraudMLP(\n",
      "  (layer1): Linear(in_features=17, out_features=64, bias=True)\n",
      "  (layer2): Linear(in_features=64, out_features=32, bias=True)\n",
      "  (layer3): Linear(in_features=32, out_features=16, bias=True)\n",
      "  (layer_out): Linear(in_features=16, out_features=1, bias=True)\n",
      "  (relu): ReLU()\n",
      "  (dropout): Dropout(p=0.2, inplace=False)\n",
      "  (batchnorm1): BatchNorm1d(64, eps=1e-05, momentum=0.1, affine=True, track_running_stats=True)\n",
      "  (batchnorm2): BatchNorm1d(32, eps=1e-05, momentum=0.1, affine=True, track_running_stats=True)\n",
      "  (batchnorm3): BatchNorm1d(16, eps=1e-05, momentum=0.1, affine=True, track_running_stats=True)\n",
      ")\n"
     ]
    }
   ],
   "source": [
    "# Device\n",
    "device = torch.device(\"cuda:0\" if torch.cuda.is_available() else \"cpu\")\n",
    "print('Device:', device)\n",
    "\n",
    "# Initialize model\n",
    "model = FraudMLP(input_size=X_train.shape[1])\n",
    "model.to(device)\n",
    "print(model)\n",
    "loss_function = nn.BCEWithLogitsLoss()\n",
    "optimizer = torch.optim.Adam(model.parameters(), lr=LEARNING_RATE)"
   ]
  },
  {
   "cell_type": "code",
   "execution_count": 51,
   "id": "d0140279-2b73-4487-aa26-e1580c45232e",
   "metadata": {},
   "outputs": [
    {
     "name": "stdout",
     "output_type": "stream",
     "text": [
      "440\n",
      "logits: tensor([[-1.8575],\n",
      "        [-1.7129],\n",
      "        [-2.0815],\n",
      "        [-2.0358],\n",
      "        [-1.9547]], grad_fn=<SliceBackward0>)\n",
      "probabilities: tensor([[0.1350],\n",
      "        [0.1528],\n",
      "        [0.1109],\n",
      "        [0.1155],\n",
      "        [0.1240]], grad_fn=<SliceBackward0>)\n",
      "predictions: tensor([[0],\n",
      "        [0],\n",
      "        [0],\n",
      "        [0],\n",
      "        [0]], dtype=torch.int32)\n"
     ]
    }
   ],
   "source": [
    "# Perform forward pass to check\n",
    "i=0\n",
    "for X_batch, y_batch in train_loader:\n",
    "    if y_batch.sum() != 0:\n",
    "        print(i)\n",
    "        logits = model(X_batch)\n",
    "        print('logits:', logits[:5])\n",
    "        pred_prob = torch.sigmoid(logits)\n",
    "        print('probabilities:', pred_prob[:5])\n",
    "        pred = torch.round(pred_prob).int()\n",
    "        print('predictions:', pred[:5])\n",
    "        break\n",
    "    i+=1"
   ]
  },
  {
   "cell_type": "markdown",
   "id": "d67b78be-6ac4-4129-9758-9b57ecd29e47",
   "metadata": {},
   "source": [
    "## Train the model"
   ]
  },
  {
   "cell_type": "code",
   "execution_count": null,
   "id": "21882f9a-db6a-4968-9b51-d315f8992ffc",
   "metadata": {},
   "outputs": [],
   "source": [
    "# Define metrics\n",
    "recall = BinaryRecall()\n",
    "precision = BinaryPrecision()\n",
    "f1 = BinaryF1Score()\n",
    "accuracy = BinaryAccuracy()\n",
    "\n",
    "# Initalize stop criterion variables\n",
    "loss_old, epoch_old = 0, 0\n",
    "\n",
    "model.train()\n",
    "for e in range(1, EPOCHS+1):\n",
    "    # Reset epoch loss and metrics\n",
    "    epoch_loss = 0    \n",
    "    recall.reset()\n",
    "    precision.reset()\n",
    "    f1.reset()\n",
    "    accuracy.reset()\n",
    "\n",
    "    for X_batch, y_batch in train_loader:\n",
    "        # Send data to device\n",
    "        X_batch, y_batch = X_batch.to(device), y_batch.to(device)\n",
    "        \n",
    "        # Zero the gradients\n",
    "        optimizer.zero_grad()\n",
    "        \n",
    "        # Forward pass\n",
    "        y_logit = model(X_batch)\n",
    "        y_pred_prob = torch.sigmoid(y_logit)\n",
    "        \n",
    "\n",
    "        # Compute loss\n",
    "        loss = loss_function(y_logit, y_batch.unsqueeze(1))\n",
    "        \n",
    "        # Compute metrics\n",
    "        recall.update(y_pred_prob.squeeze(), y_batch.int())\n",
    "        precision.update(y_pred_prob.squeeze(), y_batch.int())\n",
    "        f1.update(y_pred_prob.squeeze(), y_batch.int())\n",
    "        accuracy.update(y_pred_prob.squeeze(), y_batch.int())\n",
    "\n",
    "        # Backward pass\n",
    "        loss.backward()\n",
    "        \n",
    "        # Parameter update\n",
    "        optimizer.step()\n",
    "        \n",
    "        epoch_loss += loss.item()\n",
    "\n",
    "    if e % 1 == 0:\n",
    "        print(f'Epoch {e+0:03}: |',\n",
    "              f'Accuracy: {accuracy.compute():.3f} |',\n",
    "              f'Loss: {epoch_loss/len(train_loader):.5f} |',\n",
    "              f'Recall: {recall.compute().item():.3f} |',\n",
    "              f'Precision: {precision.compute():.3f} |',\n",
    "              f'F1: {f1.compute():.3f}',\n",
    "             )\n",
    "\n",
    "    # Stop criterion\n",
    "    if (e - epoch_old == 1) & (abs(loss.item() - loss_old) <= TOL):\n",
    "        count_iter += 1\n",
    "        print(f'Entered stop criterion at epoch {e}')\n",
    "        print(f'Loss change {abs(loss.item() - loss_old):.1e}')\n",
    "        print('Consecutive iterations', count_iter)\n",
    "        if count_iter == n_consec_iter:\n",
    "            print('Stop criterion reached.')\n",
    "            break\n",
    "    else:\n",
    "        count_iter = 0\n",
    "    epoch_old = e\n",
    "    loss_old = loss.item()"
   ]
  },
  {
   "cell_type": "markdown",
   "id": "e16eec30-55d3-4642-baf5-7e8ff30064b9",
   "metadata": {},
   "source": [
    "## Test the model"
   ]
  },
  {
   "cell_type": "code",
   "execution_count": 473,
   "id": "18da4ec2-0983-419c-908d-4139a91a18ed",
   "metadata": {},
   "outputs": [],
   "source": [
    "y_pred_prob_list = []\n",
    "model.eval()\n",
    "with torch.no_grad():\n",
    "    for X_batch in test_loader:\n",
    "        # Send data to device\n",
    "        X_batch = X_batch.to(device)\n",
    "\n",
    "        # Forward pass\n",
    "        y_logit = model(X_batch)\n",
    "        y_pred_prob_list.append(torch.sigmoid(y_logit))\n",
    "\n",
    "y_pred_prob = torch.cat(y_pred_prob_list, dim=0).squeeze().cpu().numpy()\n",
    "y_pred = (y_pred_prob >= 0.5).astype(int)\n",
    "\n",
    "# # Compute metrics\n",
    "metric={}\n",
    "metrics['mlp'] = {\n",
    "        'recall_score': recall_score(y_test, y_pred),\n",
    "        'precision_score': precision_score(y_test, y_pred),\n",
    "        'f1_score': f1_score(y_test, y_pred),\n",
    "        'precision_recall_curve': precision_recall_curve(y_test, y_pred_prob),\n",
    "        'roc_auc_score': roc_auc_score(y_test, y_pred_prob),\n",
    "        'roc_curve': roc_curve(y_test, y_pred_prob)\n",
    "    }"
   ]
  },
  {
   "cell_type": "code",
   "execution_count": null,
   "id": "a13ac72c-4dbf-4703-a401-c09043b6507e",
   "metadata": {},
   "outputs": [],
   "source": []
  },
  {
   "cell_type": "code",
   "execution_count": null,
   "id": "14f17e66-98b4-47f8-b608-0b8b1256c9b9",
   "metadata": {},
   "outputs": [],
   "source": []
  },
  {
   "cell_type": "code",
   "execution_count": null,
   "id": "0f796770-891b-4e11-ac2d-de152963c169",
   "metadata": {},
   "outputs": [],
   "source": []
  },
  {
   "cell_type": "code",
   "execution_count": null,
   "id": "eba5d681-cd76-403d-a3e9-def5c7f28c7b",
   "metadata": {},
   "outputs": [],
   "source": []
  },
  {
   "cell_type": "code",
   "execution_count": null,
   "id": "79c1c0fc-c36b-43f9-9218-40162432e489",
   "metadata": {},
   "outputs": [],
   "source": []
  },
  {
   "cell_type": "markdown",
   "id": "356d11b1-6853-4e3e-9120-f8ff788ef801",
   "metadata": {},
   "source": [
    "## Full run"
   ]
  },
  {
   "cell_type": "code",
   "execution_count": 63,
   "id": "ea735b3b-1603-49ea-a07f-8c80df7cc5e2",
   "metadata": {},
   "outputs": [],
   "source": [
    "def train_mlp(model, X_train: pd.DataFrame, y_train: pd.DataFrame, batch_size: int=64):\n",
    "    # Train DataLoader\n",
    "    train_data = TrainData(torch.tensor(X_train.values, dtype=torch.float32), \n",
    "               torch.tensor(y_train.values, dtype=torch.float32))\n",
    "    train_loader = DataLoader(dataset=train_data, batch_size=batch_size, shuffle=False)\n",
    "    print(f'Train loader size: {len(train_loader)} batches')\n",
    "\n",
    "    # Train model\n",
    "    model.fit(train_loader)"
   ]
  },
  {
   "cell_type": "code",
   "execution_count": 44,
   "id": "04ad7db0-e32e-41fc-8b82-023fcd92c25e",
   "metadata": {},
   "outputs": [],
   "source": [
    "def evaluate_mlp(model, X_test, y_test, batch_size: int=64):\n",
    "    # Test DataLoader\n",
    "    test_data = TestData(torch.tensor(X_test.values, dtype=torch.float32))\n",
    "    test_loader = DataLoader(dataset=test_data, batch_size=batch_size, shuffle=False)\n",
    "    print(f'Test loader size: {len(test_loader)} batches')\n",
    "    \n",
    "    # Model predictions\n",
    "    pred = model.predict(test_loader)\n",
    "    # Prediction probabilities\n",
    "    pred_prob = model.predict_proba(test_loader)\n",
    "    \n",
    "    # Metrics\n",
    "    metrics = {\n",
    "        'recall_score': recall_score(y_test, pred),\n",
    "        'precision_score': precision_score(y_test, pred),\n",
    "        'f1_score': f1_score(y_test, pred),\n",
    "        'precision_recall_curve': precision_recall_curve(y_test, pred_prob),\n",
    "        'roc_auc_score': roc_auc_score(y_test, pred_prob),\n",
    "        'roc_curve': roc_curve(y_test, pred_prob)\n",
    "    }\n",
    "\n",
    "    return metrics"
   ]
  },
  {
   "cell_type": "code",
   "execution_count": 169,
   "id": "59f40b83-7763-48ea-b54f-3241b6139b3f",
   "metadata": {},
   "outputs": [],
   "source": [
    "# Initialize model\n",
    "model = BinaryMLP(input_size=X_train.shape[1], learning_rate=1e-3, max_epochs=200, verbose=True)"
   ]
  },
  {
   "cell_type": "code",
   "execution_count": 170,
   "id": "c0c27b8a-dc07-430f-af5e-d2a59856d3a8",
   "metadata": {},
   "outputs": [
    {
     "data": {
      "text/plain": [
       "BinaryMLP(\n",
       "  (layer1): Linear(in_features=17, out_features=32, bias=True)\n",
       "  (layer2): Linear(in_features=32, out_features=16, bias=True)\n",
       "  (layer3): Linear(in_features=16, out_features=8, bias=True)\n",
       "  (layer_out): Linear(in_features=8, out_features=1, bias=True)\n",
       "  (relu): ReLU()\n",
       "  (dropout): Dropout(p=0.2, inplace=False)\n",
       "  (batchnorm1): BatchNorm1d(32, eps=1e-05, momentum=0.1, affine=True, track_running_stats=True)\n",
       "  (batchnorm2): BatchNorm1d(16, eps=1e-05, momentum=0.1, affine=True, track_running_stats=True)\n",
       "  (batchnorm3): BatchNorm1d(8, eps=1e-05, momentum=0.1, affine=True, track_running_stats=True)\n",
       ")"
      ]
     },
     "execution_count": 170,
     "metadata": {},
     "output_type": "execute_result"
    }
   ],
   "source": [
    "model"
   ]
  },
  {
   "cell_type": "code",
   "execution_count": 161,
   "id": "e1c7bea0-82a8-46b7-9c64-5756f405a13c",
   "metadata": {},
   "outputs": [
    {
     "name": "stdout",
     "output_type": "stream",
     "text": [
      "Train loader size: 485 batches\n",
      "Epoch 001: | Loss: 0.51054 | Accuracy: 0.754 | Recall: 0.814 | Precision: 0.244 | F1: 0.376\n",
      "Epoch 020: | Loss: 0.08071 | Accuracy: 0.972 | Recall: 0.853 | Precision: 0.845 | F1: 0.849\n",
      "Epoch 040: | Loss: 0.06966 | Accuracy: 0.975 | Recall: 0.868 | Precision: 0.858 | F1: 0.863\n",
      "Epoch 060: | Loss: 0.06837 | Accuracy: 0.976 | Recall: 0.865 | Precision: 0.868 | F1: 0.866\n",
      "Current Epoch: 64 | Loss change: 2.7e-02 | Consecutive stop iterations: 1\n",
      "Epoch 080: | Loss: 0.06416 | Accuracy: 0.976 | Recall: 0.873 | Precision: 0.867 | F1: 0.870\n",
      "Current Epoch: 84 | Loss change: 9.7e-03 | Consecutive stop iterations: 1\n",
      "Epoch 100: | Loss: 0.06458 | Accuracy: 0.976 | Recall: 0.874 | Precision: 0.868 | F1: 0.871\n",
      "Current Epoch: 115 | Loss change: 4.5e-02 | Consecutive stop iterations: 1\n",
      "Epoch 120: | Loss: 0.06122 | Accuracy: 0.977 | Recall: 0.874 | Precision: 0.876 | F1: 0.875\n",
      "Epoch 140: | Loss: 0.05955 | Accuracy: 0.978 | Recall: 0.883 | Precision: 0.876 | F1: 0.880\n",
      "Epoch 160: | Loss: 0.06031 | Accuracy: 0.977 | Recall: 0.876 | Precision: 0.872 | F1: 0.874\n",
      "Epoch 180: | Loss: 0.06129 | Accuracy: 0.979 | Recall: 0.888 | Precision: 0.885 | F1: 0.887\n",
      "Epoch 200: | Loss: 0.06061 | Accuracy: 0.978 | Recall: 0.880 | Precision: 0.877 | F1: 0.879\n",
      "Epoch 200: | Loss: 0.06061 | Accuracy: 0.978 | Recall: 0.880 | Precision: 0.877 | F1: 0.879\n",
      "CPU times: user 12min 13s, sys: 56.5 s, total: 13min 10s\n",
      "Wall time: 1min 40s\n"
     ]
    }
   ],
   "source": [
    "%%time\n",
    "# Train model\n",
    "train_mlp(model, X_train, y_train)"
   ]
  },
  {
   "cell_type": "code",
   "execution_count": 162,
   "id": "cd8e2835-8875-44c9-9817-8bec4df3254c",
   "metadata": {},
   "outputs": [
    {
     "name": "stdout",
     "output_type": "stream",
     "text": [
      "Test loader size: 3824 batches\n"
     ]
    }
   ],
   "source": [
    "# Evaluate model\n",
    "metrics = evaluate_mlp(model, X_test, y_test)"
   ]
  },
  {
   "cell_type": "code",
   "execution_count": 166,
   "id": "64027886-bb7b-40ee-bb7c-591d9992f2ad",
   "metadata": {},
   "outputs": [
    {
     "data": {
      "image/png": "[encoded data removed]",
      "text/plain": [
       "<Figure size 800x400 with 2 Axes>"
      ]
     },
     "metadata": {},
     "output_type": "display_data"
    }
   ],
   "source": [
    "fig, ax = plt.subplots(1, 2, figsize=(8, 4))\n",
    "\n",
    "# ROC curve\n",
    "plot_roc_curve(metrics['roc_curve'], metrics['roc_auc_score'], model_name='FraudMLP', color='C'+str(0), ax=ax[0])\n",
    "# PR curve\n",
    "plot_precision_recall_curve(metrics['precision_recall_curve'], color='C'+str(0), ax=ax[1])\n",
    "\n",
    "ax[0].set_aspect('equal')\n",
    "ax[1].set_aspect('equal')\n",
    "\n",
    "# plt.savefig(fig_folder+'roc_pr_curve.png', dpi=300)\n",
    "plt.show()"
   ]
  },
  {
   "cell_type": "code",
   "execution_count": 165,
   "id": "e111a6ee-3224-44ad-aa30-b07496ee9838",
   "metadata": {},
   "outputs": [
    {
     "data": {
      "text/html": [
       "<div>\n",
       "<style scoped>\n",
       "    .dataframe tbody tr th:only-of-type {\n",
       "        vertical-align: middle;\n",
       "    }\n",
       "\n",
       "    .dataframe tbody tr th {\n",
       "        vertical-align: top;\n",
       "    }\n",
       "\n",
       "    .dataframe thead th {\n",
       "        text-align: right;\n",
       "    }\n",
       "</style>\n",
       "<table border=\"1\" class=\"dataframe\">\n",
       "  <thead>\n",
       "    <tr style=\"text-align: right;\">\n",
       "      <th></th>\n",
       "      <th>MLP</th>\n",
       "    </tr>\n",
       "  </thead>\n",
       "  <tbody>\n",
       "    <tr>\n",
       "      <th>Precision</th>\n",
       "      <td>0.105</td>\n",
       "    </tr>\n",
       "    <tr>\n",
       "      <th>Recall</th>\n",
       "      <td>0.591</td>\n",
       "    </tr>\n",
       "    <tr>\n",
       "      <th>F1</th>\n",
       "      <td>0.178</td>\n",
       "    </tr>\n",
       "    <tr>\n",
       "      <th>ROC-AUC</th>\n",
       "      <td>0.942</td>\n",
       "    </tr>\n",
       "  </tbody>\n",
       "</table>\n",
       "</div>"
      ],
      "text/plain": [
       "             MLP\n",
       "Precision  0.105\n",
       "Recall     0.591\n",
       "F1         0.178\n",
       "ROC-AUC    0.942"
      ]
     },
     "execution_count": 165,
     "metadata": {},
     "output_type": "execute_result"
    }
   ],
   "source": [
    "models_metrics=[]\n",
    "models_metrics.append([metrics['precision_score'], \n",
    "                       metrics['recall_score'], \n",
    "                       metrics['f1_score'], \n",
    "                       metrics['roc_auc_score']])\n",
    "pd.DataFrame(models_metrics, columns=['Precision', 'Recall', 'F1', 'ROC-AUC'], index=['MLP']).round(3).T"
   ]
  },
  {
   "cell_type": "code",
   "execution_count": null,
   "id": "7e978db7-930b-47d6-9495-08761386fedc",
   "metadata": {},
   "outputs": [],
   "source": []
  },
  {
   "cell_type": "code",
   "execution_count": null,
   "id": "eb4b64fa-1617-4cf6-8d26-00211e06256e",
   "metadata": {},
   "outputs": [],
   "source": []
  },
  {
   "cell_type": "code",
   "execution_count": null,
   "id": "098b2de7-6e75-4f09-a594-5a42cac07122",
   "metadata": {},
   "outputs": [],
   "source": []
  },
  {
   "cell_type": "code",
   "execution_count": 30,
   "id": "b515bc0d-d0e6-4558-bfc9-dfacea09bbb6",
   "metadata": {},
   "outputs": [],
   "source": [
    "# --- Precision recall curve ---\n",
    "def plot_precision_recall_curve(model_pr_curve, color='C0', lw=2, marker=None, ax=None, \n",
    "                                title_fs=12, axis_label_fs=12, axis_tick_fs=12):\n",
    "    ''' Plot the precision-recall curve.'''\n",
    "    # Compute the precision, recall and threshold\n",
    "    precision, recall, thresholds = model_pr_curve\n",
    "    \n",
    "    # fig, ax = plt.subplots(figsize=(4.5, 4))\n",
    "    if ax is None:\n",
    "        ax = plt.gca()\n",
    "    \n",
    "    # Plot the curve\n",
    "    ax.plot([0, 1], [0, 1], color='k', linestyle='--', lw=1)  # Plot the diagonal line (random classifier)\n",
    "    ax.plot(recall, precision, color=color, marker=marker, lw=lw)\n",
    "    ax.set_xlim([-0.05, 1.05])\n",
    "    ax.set_ylim([-0.05, 1.05])\n",
    "    ax.set_xlabel('Recall', fontsize=axis_label_fs)\n",
    "    ax.set_ylabel('Precision', fontsize=axis_label_fs)\n",
    "    ax.set_title('Precision-Recall Curve', fontsize=title_fs)\n",
    "    ax.tick_params(labelsize=axis_tick_fs)\n",
    "    ax.grid(True)\n",
    "\n",
    "    plt.tight_layout()\n",
    "    # plt.show()\n",
    "    # plt.savefig('precision_recall_curve.png', dpi=500, bbox_inches='tight')"
   ]
  },
  {
   "cell_type": "code",
   "execution_count": 31,
   "id": "07116ee9-b31f-425c-80d9-c03cdd0193cc",
   "metadata": {},
   "outputs": [],
   "source": [
    "# Plot the ROC curve\n",
    "def plot_roc_curve(model_roc_curve, model_roc_auc, color='C0', model_name=None, ax=None, \n",
    "                   lw=2, title_fs=12, axis_label_fs=12, legend_fs=10, axis_tick_fs=12):\n",
    "    # Compute ROC curve and AUC\n",
    "    fpr, tpr, thresholds = model_roc_curve\n",
    "    roc_auc = model_roc_auc\n",
    "\n",
    "    # fig, ax = plt.subplots(figsize=(4.5, 4))\n",
    "    if ax is None:\n",
    "        ax = plt.gca()\n",
    "\n",
    "    ax.plot([0, 1], [0, 1], color='k', linestyle='--', lw=1)  # Plot the diagonal line (random classifier)\n",
    "    ax.plot(fpr, tpr, color=color, lw=lw, label=f'{model_name} (AUC = {roc_auc:.2f})')\n",
    "    ax.set_xlim([-0.05, 1.05])\n",
    "    ax.set_ylim([-0.05, 1.05])\n",
    "    ax.set_xlabel('False Positive Rate (FPR)', fontsize=axis_label_fs)\n",
    "    ax.set_ylabel('True Positive Rate (TPR)', fontsize=axis_label_fs)\n",
    "    ax.set_title('ROC Curve', fontsize=title_fs)\n",
    "    ax.legend(loc='lower right', fontsize=legend_fs)\n",
    "    ax.tick_params(labelsize=axis_tick_fs)\n",
    "    ax.grid(True)\n",
    "    # plt.show()\n"
   ]
  },
  {
   "cell_type": "markdown",
   "id": "8bde189c-24c7-4541-9df7-dc1b512dbc5d",
   "metadata": {},
   "source": [
    "# HERE"
   ]
  },
  {
   "cell_type": "code",
   "execution_count": null,
   "id": "f99139ad-793a-4d52-a797-125ff27c29a8",
   "metadata": {},
   "outputs": [],
   "source": []
  },
  {
   "cell_type": "code",
   "execution_count": null,
   "id": "f4def430-971f-440c-bc02-791be00ed2ee",
   "metadata": {},
   "outputs": [],
   "source": []
  },
  {
   "cell_type": "code",
   "execution_count": null,
   "id": "a9e67fd1-eff0-477e-a070-ca902d326e73",
   "metadata": {},
   "outputs": [],
   "source": []
  },
  {
   "cell_type": "code",
   "execution_count": null,
   "id": "20cb572a-296a-4acf-afbc-67ea3649990e",
   "metadata": {},
   "outputs": [],
   "source": []
  },
  {
   "cell_type": "code",
   "execution_count": null,
   "id": "fb6daf6f-b867-4d57-b73c-b78e16dfee76",
   "metadata": {},
   "outputs": [],
   "source": []
  },
  {
   "cell_type": "markdown",
   "id": "6b572c7e-bfaa-47bd-8a11-10122f43b8e2",
   "metadata": {},
   "source": [
    "# Archive"
   ]
  },
  {
   "cell_type": "code",
   "execution_count": 377,
   "id": "2afe4ccd-3097-4950-af6f-dfa9b78447ac",
   "metadata": {},
   "outputs": [],
   "source": [
    "# Define accuracy\n",
    "def binary_acc(y_pred_prob, y_test, threshold=0.5):\n",
    "    y_pred = (y_pred_prob >= threshold).int()\n",
    "\n",
    "    correct_results_sum = (y_pred == y_test.unsqueeze(1)).sum().float()\n",
    "    acc = correct_results_sum/y_test.shape[0]\n",
    "\n",
    "    # print(correct_results_sum)\n",
    "    # print(y_test.shape)\n",
    "    # print(y_test.shape[0])\n",
    "    \n",
    "    return acc"
   ]
  },
  {
   "cell_type": "code",
   "execution_count": 345,
   "id": "63ea424f-affd-4acc-9de4-844f7a59a0ac",
   "metadata": {},
   "outputs": [],
   "source": [
    "# Define recall\n",
    "def binary_rec(y_pred_prob, y_test, threshold=0.5):\n",
    "    y_pred = (y_pred_prob >= threshold).int()\n",
    "\n",
    "    true_positives = ((y_pred == 1) & (y_test.unsqueeze(1) == 1)).sum().float()\n",
    "    positives = y_test.sum()\n",
    "    rec = true_positives / positives\n",
    "\n",
    "    # print('TP = ', true_positives)\n",
    "    # print('P = ', positives)\n",
    "    # print('Recall = ', rec)\n",
    "    \n",
    "    return rec"
   ]
  },
  {
   "cell_type": "code",
   "execution_count": 348,
   "id": "b0a8cafc-dfee-472f-a4f2-2a1c7a63bd83",
   "metadata": {},
   "outputs": [],
   "source": [
    "# Define precision\n",
    "def binary_pre(y_pred_prob, y_test, threshold=0.5):\n",
    "    y_pred = (y_pred_prob >= threshold).int()\n",
    "\n",
    "    true_positives = ((y_pred == 1) & (y_test.unsqueeze(1) == 1)).sum().float()\n",
    "    predicted_positives = (y_pred == 1).sum()\n",
    "    pre = true_positives / predicted_positives\n",
    "\n",
    "    # print('TP = ', true_positives)\n",
    "    # print('P = ', positives)\n",
    "    # print('Recall = ', rec)\n",
    "    \n",
    "    return pre"
   ]
  },
  {
   "cell_type": "code",
   "execution_count": 378,
   "id": "3f1a6c95-5a3a-440a-a99a-9e214927b22f",
   "metadata": {},
   "outputs": [
    {
     "name": "stdout",
     "output_type": "stream",
     "text": [
      "Epoch 001: | Loss: 0.05266 | Recall: 0.888 - 0.888 | Precision: 0.900 - 0.900 | Accuracy: 0.981 - 0.981 | F1: 0.894\n",
      "Epoch 002: | Loss: 0.05250 | Recall: 0.889 - 0.889 | Precision: 0.896 - 0.896 | Accuracy: 0.980 - 0.980 | F1: 0.892\n",
      "Epoch 003: | Loss: 0.05231 | Recall: 0.883 - 0.883 | Precision: 0.895 - 0.895 | Accuracy: 0.980 - 0.980 | F1: 0.889\n",
      "Epoch 004: | Loss: 0.05212 | Recall: 0.885 - 0.885 | Precision: 0.900 - 0.900 | Accuracy: 0.981 - 0.981 | F1: 0.892\n",
      "Epoch 005: | Loss: 0.05187 | Recall: 0.888 - 0.888 | Precision: 0.895 - 0.895 | Accuracy: 0.980 - 0.980 | F1: 0.892\n",
      "Epoch 006: | Loss: 0.05216 | Recall: 0.880 - 0.880 | Precision: 0.903 - 0.903 | Accuracy: 0.981 - 0.981 | F1: 0.891\n",
      "Epoch 007: | Loss: 0.05216 | Recall: 0.883 - 0.883 | Precision: 0.898 - 0.898 | Accuracy: 0.980 - 0.980 | F1: 0.890\n",
      "Epoch 008: | Loss: 0.05050 | Recall: 0.888 - 0.888 | Precision: 0.902 - 0.902 | Accuracy: 0.981 - 0.981 | F1: 0.895\n",
      "Epoch 009: | Loss: 0.05041 | Recall: 0.887 - 0.887 | Precision: 0.902 - 0.902 | Accuracy: 0.981 - 0.981 | F1: 0.895\n",
      "Epoch 010: | Loss: 0.05285 | Recall: 0.885 - 0.885 | Precision: 0.904 - 0.904 | Accuracy: 0.981 - 0.981 | F1: 0.894\n"
     ]
    }
   ],
   "source": [
    "model.train()\n",
    "for e in range(1, EPOCHS+1):\n",
    "    # Set epoch loss and metrics to zero\n",
    "    epoch_loss = 0\n",
    "    epoch_recall, epoch_precision, epoch_f1 = 0, 0, 0\n",
    "    epoch_acc = 0\n",
    "    # epoch_rec = 0\n",
    "    recall.reset()\n",
    "    precision.reset()\n",
    "    f1.reset()\n",
    "    accuracy.reset()\n",
    "    epoch_y_pred_prob = []\n",
    "    epoch_y_batch = []\n",
    "    for X_batch, y_batch in train_loader:\n",
    "        # Send data to device\n",
    "        X_batch, y_batch = X_batch.to(device), y_batch.to(device)\n",
    "        \n",
    "        # Zero the gradients\n",
    "        optimizer.zero_grad()\n",
    "        \n",
    "        # Forward pass\n",
    "        y_logit = model(X_batch)\n",
    "        y_pred_prob = torch.sigmoid(y_logit)\n",
    "        \n",
    "\n",
    "        # Compute loss\n",
    "        loss = loss_function(y_logit, y_batch.unsqueeze(1))\n",
    "        \n",
    "        # Compute metrics\n",
    "        recall.update(y_pred_prob.squeeze(), y_batch.int())\n",
    "        precision.update(y_pred_prob.squeeze(), y_batch.int())\n",
    "        f1.update(y_pred_prob.squeeze(), y_batch.int())\n",
    "        accuracy.update(y_pred_prob.squeeze(), y_batch.int())\n",
    "\n",
    "        acc = binary_acc(y_logit, y_batch.unsqueeze(1))\n",
    "        epoch_y_pred_prob.append(y_pred_prob)\n",
    "        epoch_y_batch.append(y_batch)\n",
    "\n",
    "        # Backward pass\n",
    "        loss.backward()\n",
    "        \n",
    "        # Parameter update\n",
    "        optimizer.step()\n",
    "        \n",
    "        epoch_loss += loss.item()\n",
    "\n",
    "    epoch_y_pred_prob = torch.cat(epoch_y_pred_prob, dim=0)\n",
    "    epoch_y_batch = torch.cat(epoch_y_batch, dim=0)\n",
    "    epoch_rec = binary_rec(epoch_y_pred_prob, epoch_y_batch)\n",
    "    epoch_pre = binary_pre(epoch_y_pred_prob, epoch_y_batch)\n",
    "    epoch_acc = binary_acc(epoch_y_pred_prob, epoch_y_batch)\n",
    "    print(f'Epoch {e+0:03}: |',\n",
    "          f'Loss: {epoch_loss/len(train_loader):.5f} |',\n",
    "          f'Recall: {recall.compute().item():.3f} - {epoch_rec:.3f} |',\n",
    "          f'Precision: {precision.compute():.3f} - {epoch_pre:.3f} |',\n",
    "          f'Accuracy: {accuracy.compute():.3f} - {epoch_acc:.3f} |',\n",
    "          f'F1: {f1.compute():.3f}',\n",
    "         )"
   ]
  }
 ],
 "metadata": {
  "kernelspec": {
   "display_name": "Python 3 (ipykernel)",
   "language": "python",
   "name": "python3"
  },
  "language_info": {
   "codemirror_mode": {
    "name": "ipython",
    "version": 3
   },
   "file_extension": ".py",
   "mimetype": "text/x-python",
   "name": "python",
   "nbconvert_exporter": "python",
   "pygments_lexer": "ipython3",
   "version": "3.12.7"
  }
 },
 "nbformat": 4,
 "nbformat_minor": 5
}
